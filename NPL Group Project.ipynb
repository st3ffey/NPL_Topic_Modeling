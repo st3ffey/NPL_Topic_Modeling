{
 "cells": [
  {
   "cell_type": "markdown",
   "id": "99ff92e0-077a-4dc2-8190-1607cd9db829",
   "metadata": {
    "tags": []
   },
   "source": [
    "###### Funtions from class\n"
   ]
  },
  {
   "cell_type": "code",
   "execution_count": 1,
   "id": "1b6d0c72",
   "metadata": {},
   "outputs": [],
   "source": [
    "def clean_text(str_in):\n",
    "    import re\n",
    "    tmp = re.sub(\"[^A-Za-z'0-9]+\", \" \",str_in).lower().strip().replace(\"  \", \" \")\n",
    "    return tmp\n",
    "\n",
    "def rem_sw(var_in):\n",
    "    from nltk.corpus import stopwords\n",
    "    sw = stopwords.words(\"english\")\n",
    "    sw.remove('no')\n",
    "    sw.remove('not')\n",
    "    tmp = var_in.split()\n",
    "    # tmp_ar = list()\n",
    "    # for word_t in tmp:\n",
    "    #     if word_t not in sw:\n",
    "    #         tmp_ar.append(word_t)\n",
    "    tmp_ar = [word_t for word_t in tmp if word_t not in sw]\n",
    "    tmp_o = ' '.join(tmp_ar)\n",
    "    return tmp_o\n",
    "\n",
    "# -*- coding: utf-8 -*-\n",
    "\"\"\"\n",
    "Created on Mon Feb 13 18:43:11 2023\n",
    "\n",
    "@author: pathouli\n",
    "\"\"\"\n",
    "\n",
    "def clean_text(str_in):\n",
    "    import re\n",
    "    tmp = re.sub(\"[^A-Za-z'0-9]+\", \" \",str_in).lower().strip().replace(\"  \", \" \")\n",
    "    return tmp\n",
    "\n",
    "def file_clean(path_in):\n",
    "    f = open(path_in, encoding=\"UTF-8\")\n",
    "    tmp = f.read()\n",
    "    f.close()\n",
    "    tmp = clean_text(tmp)\n",
    "    return tmp\n",
    "\n",
    "def read_files(path_in):\n",
    "    import os\n",
    "    import pandas as pd\n",
    "    file_list = pd.DataFrame()\n",
    "    for root, dirs, files in os.walk(path_in, topdown=False):\n",
    "        for name in files:\n",
    "            try:\n",
    "                t_path = root + \"/\" + name\n",
    "                file_p = file_clean(t_path)\n",
    "                t_p = root.split(\"/\")[-1:][0]\n",
    "                if len(file_p) > 0:\n",
    "                    file_list = file_list.append(\n",
    "                        {\"body\": file_p, \"label\": t_p\n",
    "                         }, ignore_index=True)\n",
    "            except:\n",
    "                print (t_path)\n",
    "                pass\n",
    "    return file_list\n",
    "\n",
    "def wrd_dictionary(df_in, col_name_in):\n",
    "    import collections\n",
    "    my_dictionaty_t = dict()\n",
    "    for topic_t in df_in.label.unique():\n",
    "        tmp = df_in[df_in.label == topic_t]\n",
    "        tmp = tmp[col_name_in].str.cat(sep=\" \")\n",
    "        wrd_freq = collections.Counter(tmp.split())\n",
    "        my_dictionaty_t[topic_t] = wrd_freq\n",
    "    return my_dictionaty_t\n",
    "\n",
    "def rem_sw(var_in):\n",
    "    from nltk.corpus import stopwords\n",
    "    sw = stopwords.words(\"english\")\n",
    "    tmp = var_in.split()\n",
    "    # tmp_ar = list()\n",
    "    # for word_t in tmp:\n",
    "    #     if word_t not in sw:\n",
    "    #         tmp_ar.append(word_t)\n",
    "    tmp_ar = [word_t for word_t in tmp if word_t not in sw]\n",
    "    tmp_o = ' '.join(tmp_ar)\n",
    "    return tmp_o\n",
    "\n",
    "def write_pickle(obj_in, path_in, name_in):\n",
    "    import pickle\n",
    "    pickle.dump(obj_in, open(path_in + name_in + \".pk\", 'wb'))\n",
    "    \n",
    "def read_pickle(path_in, name_in):\n",
    "    import pickle\n",
    "    the_data_t = pickle.load(open(path_in + name_in + \".pk\", 'rb'))\n",
    "    return the_data_t\n",
    "\n",
    "def wrd_cnt(txt_in):\n",
    "    tmp = len(set(txt_in.split()))\n",
    "    return tmp\n",
    "\n",
    "def stem_fun(txt_in):\n",
    "    from nltk.stem import PorterStemmer\n",
    "    stem_tmp = PorterStemmer()\n",
    "    tmp = [stem_tmp.stem(word) for word in txt_in.split()]\n",
    "    tmp = ' '.join(tmp)\n",
    "    # tmp = list()\n",
    "    # for word in txt_in.split():\n",
    "    #     tmp.append(stem_tmp.stem(word))\n",
    "    return tmp\n",
    "\n",
    "def bag_of_words(texts):\n",
    "  word_count = {}\n",
    "  for text in texts:\n",
    "    for word in text.split():\n",
    "      if word in word_count:\n",
    "        word_count[word] += 1\n",
    "      else:\n",
    "        word_count[word] = 1\n",
    "  \n",
    "  df = pd.DataFrame.from_dict(word_count, orient='index', columns=['frequency'])\n",
    "  df.sort_values(by='frequency', ascending=False, inplace=True)\n",
    "  return df\n",
    "\n"
   ]
  },
  {
   "cell_type": "markdown",
   "id": "93d49cb2-b2f8-4e98-922e-7bdc0af0d8af",
   "metadata": {
    "jp-MarkdownHeadingCollapsed": true,
    "tags": []
   },
   "source": [
    "#### Import packages and data"
   ]
  },
  {
   "cell_type": "code",
   "execution_count": 161,
   "id": "3b9056d5",
   "metadata": {},
   "outputs": [],
   "source": [
    "import pandas as pd\n",
    "import numpy as np\n",
    "import os\n",
    "from top2vec import Top2Vec"
   ]
  },
  {
   "cell_type": "code",
   "execution_count": 28,
   "id": "c945e0f8",
   "metadata": {},
   "outputs": [],
   "source": [
    "#Reading in database\n",
    "opinions = pd.read_csv(r'C:\\Users\\tahas\\Documents\\QMSS\\NPL class\\all_opinions.csv')\n",
    "docs = opinions.text[opinions['author_name'] == 'Justice Thomas'].tolist()"
   ]
  },
  {
   "cell_type": "markdown",
   "id": "23bbad73-02fd-401e-b4ab-03272fee183e",
   "metadata": {},
   "source": [
    "#### general overview of data"
   ]
  },
  {
   "cell_type": "code",
   "execution_count": 215,
   "id": "f8594d59-2109-4ed3-ba49-1b0f2e478c84",
   "metadata": {},
   "outputs": [
    {
     "name": "stderr",
     "output_type": "stream",
     "text": [
      "C:\\Users\\tahas\\AppData\\Local\\Temp\\ipykernel_24388\\2021026314.py:7: FutureWarning:\n",
      "\n",
      "iteritems is deprecated and will be removed in a future version. Use .items instead.\n",
      "\n",
      "C:\\Users\\tahas\\anaconda3\\lib\\site-packages\\plotly\\io\\_renderers.py:395: DeprecationWarning:\n",
      "\n",
      "distutils Version classes are deprecated. Use packaging.version instead.\n",
      "\n",
      "C:\\Users\\tahas\\anaconda3\\lib\\site-packages\\plotly\\io\\_renderers.py:395: DeprecationWarning:\n",
      "\n",
      "distutils Version classes are deprecated. Use packaging.version instead.\n",
      "\n"
     ]
    },
    {
     "data": {
      "application/vnd.plotly.v1+json": {
       "config": {
        "plotlyServerURL": "https://plot.ly"
       },
       "data": [
        {
         "domain": {
          "x": [
           0,
           1
          ],
          "y": [
           0,
           1
          ]
         },
         "hovertemplate": "name=%{label}<br>count=%{value}<extra></extra>",
         "labels": [
          "per_curiam",
          "Justice White",
          "Justice Harlan",
          "Justice Stevens",
          "Justice Douglas",
          "Justice Brennan",
          "Justice Holmes",
          "Justice Marshall",
          "Justice Black",
          "Justice Waite",
          "Justice Rehnquist",
          "Justice Fuller",
          "Justice Scalia",
          "Justice Blackmun",
          "Justice Mckenna",
          "Justice Miller",
          "Justice Brewer",
          "Justice Thomas",
          "Justice Stewart",
          "Justice Frankfurter",
          "Justice Field",
          "Justice Stone",
          "Justice O'Connor",
          "Justice McReynolds",
          "Justice Brandeis",
          "Other",
          "Other",
          "Other",
          "Other",
          "Other",
          "Other",
          "Other",
          "Other",
          "Other",
          "Other",
          "Other",
          "Other",
          "Other",
          "Other",
          "Other",
          "Other",
          "Other",
          "Other",
          "Other",
          "Other",
          "Other",
          "Other",
          "Other",
          "Other",
          "Other",
          "Other",
          "Other",
          "Other",
          "Other",
          "Other",
          "Other",
          "Other",
          "Other",
          "Other",
          "Other",
          "Other",
          "Other",
          "Other",
          "Other",
          "Other",
          "Other",
          "Other",
          "Other",
          "Other",
          "Other",
          "Other",
          "Other",
          "Other",
          "Other",
          "Other",
          "Other",
          "Other",
          "Other",
          "Other",
          "Other",
          "Other",
          "Other",
          "Other",
          "Other",
          "Other",
          "Other",
          "Other",
          "Other",
          "Other",
          "Other",
          "Other",
          "Other",
          "Other",
          "Other",
          "Other",
          "Other",
          "Other",
          "Other",
          "Other",
          "Other",
          "Other",
          "Other",
          "Other",
          "Other",
          "Other",
          "Other",
          "Other",
          "Other",
          "Other",
          "Other",
          "Other",
          "Other",
          "Other",
          "Other",
          "Other",
          "Other",
          "Other",
          "Other",
          "Other",
          "Other",
          "Other",
          "Other"
         ],
         "legendgroup": "",
         "name": "",
         "showlegend": true,
         "type": "pie",
         "values": [
          2451,
          1517,
          1333,
          1181,
          1109,
          942,
          937,
          851,
          834,
          821,
          752,
          749,
          718,
          654,
          647,
          632,
          577,
          551,
          540,
          540,
          524,
          519,
          518,
          515,
          508,
          494,
          461,
          457,
          455,
          447,
          422,
          418,
          416,
          416,
          414,
          407,
          406,
          389,
          360,
          357,
          321,
          319,
          312,
          310,
          307,
          292,
          291,
          272,
          266,
          263,
          255,
          246,
          243,
          239,
          221,
          213,
          210,
          208,
          182,
          180,
          175,
          172,
          162,
          157,
          156,
          152,
          151,
          148,
          147,
          143,
          133,
          128,
          124,
          110,
          98,
          95,
          92,
          91,
          89,
          84,
          82,
          78,
          77,
          70,
          68,
          66,
          51,
          47,
          42,
          42,
          29,
          20,
          17,
          15,
          15,
          13,
          9,
          7,
          5,
          5,
          3,
          2,
          2,
          2,
          1,
          1,
          1,
          1,
          1,
          1,
          1,
          1,
          1,
          1,
          1,
          1,
          1,
          1,
          1,
          1,
          1,
          1
         ]
        }
       ],
       "layout": {
        "autosize": true,
        "hiddenlabels": [
         "Justice Douglas"
        ],
        "legend": {
         "tracegroupgap": 0
        },
        "margin": {
         "t": 60
        },
        "template": {
         "data": {
          "bar": [
           {
            "error_x": {
             "color": "#2a3f5f"
            },
            "error_y": {
             "color": "#2a3f5f"
            },
            "marker": {
             "line": {
              "color": "#E5ECF6",
              "width": 0.5
             },
             "pattern": {
              "fillmode": "overlay",
              "size": 10,
              "solidity": 0.2
             }
            },
            "type": "bar"
           }
          ],
          "barpolar": [
           {
            "marker": {
             "line": {
              "color": "#E5ECF6",
              "width": 0.5
             },
             "pattern": {
              "fillmode": "overlay",
              "size": 10,
              "solidity": 0.2
             }
            },
            "type": "barpolar"
           }
          ],
          "carpet": [
           {
            "aaxis": {
             "endlinecolor": "#2a3f5f",
             "gridcolor": "white",
             "linecolor": "white",
             "minorgridcolor": "white",
             "startlinecolor": "#2a3f5f"
            },
            "baxis": {
             "endlinecolor": "#2a3f5f",
             "gridcolor": "white",
             "linecolor": "white",
             "minorgridcolor": "white",
             "startlinecolor": "#2a3f5f"
            },
            "type": "carpet"
           }
          ],
          "choropleth": [
           {
            "colorbar": {
             "outlinewidth": 0,
             "ticks": ""
            },
            "type": "choropleth"
           }
          ],
          "contour": [
           {
            "colorbar": {
             "outlinewidth": 0,
             "ticks": ""
            },
            "colorscale": [
             [
              0,
              "#0d0887"
             ],
             [
              0.1111111111111111,
              "#46039f"
             ],
             [
              0.2222222222222222,
              "#7201a8"
             ],
             [
              0.3333333333333333,
              "#9c179e"
             ],
             [
              0.4444444444444444,
              "#bd3786"
             ],
             [
              0.5555555555555556,
              "#d8576b"
             ],
             [
              0.6666666666666666,
              "#ed7953"
             ],
             [
              0.7777777777777778,
              "#fb9f3a"
             ],
             [
              0.8888888888888888,
              "#fdca26"
             ],
             [
              1,
              "#f0f921"
             ]
            ],
            "type": "contour"
           }
          ],
          "contourcarpet": [
           {
            "colorbar": {
             "outlinewidth": 0,
             "ticks": ""
            },
            "type": "contourcarpet"
           }
          ],
          "heatmap": [
           {
            "colorbar": {
             "outlinewidth": 0,
             "ticks": ""
            },
            "colorscale": [
             [
              0,
              "#0d0887"
             ],
             [
              0.1111111111111111,
              "#46039f"
             ],
             [
              0.2222222222222222,
              "#7201a8"
             ],
             [
              0.3333333333333333,
              "#9c179e"
             ],
             [
              0.4444444444444444,
              "#bd3786"
             ],
             [
              0.5555555555555556,
              "#d8576b"
             ],
             [
              0.6666666666666666,
              "#ed7953"
             ],
             [
              0.7777777777777778,
              "#fb9f3a"
             ],
             [
              0.8888888888888888,
              "#fdca26"
             ],
             [
              1,
              "#f0f921"
             ]
            ],
            "type": "heatmap"
           }
          ],
          "heatmapgl": [
           {
            "colorbar": {
             "outlinewidth": 0,
             "ticks": ""
            },
            "colorscale": [
             [
              0,
              "#0d0887"
             ],
             [
              0.1111111111111111,
              "#46039f"
             ],
             [
              0.2222222222222222,
              "#7201a8"
             ],
             [
              0.3333333333333333,
              "#9c179e"
             ],
             [
              0.4444444444444444,
              "#bd3786"
             ],
             [
              0.5555555555555556,
              "#d8576b"
             ],
             [
              0.6666666666666666,
              "#ed7953"
             ],
             [
              0.7777777777777778,
              "#fb9f3a"
             ],
             [
              0.8888888888888888,
              "#fdca26"
             ],
             [
              1,
              "#f0f921"
             ]
            ],
            "type": "heatmapgl"
           }
          ],
          "histogram": [
           {
            "marker": {
             "pattern": {
              "fillmode": "overlay",
              "size": 10,
              "solidity": 0.2
             }
            },
            "type": "histogram"
           }
          ],
          "histogram2d": [
           {
            "colorbar": {
             "outlinewidth": 0,
             "ticks": ""
            },
            "colorscale": [
             [
              0,
              "#0d0887"
             ],
             [
              0.1111111111111111,
              "#46039f"
             ],
             [
              0.2222222222222222,
              "#7201a8"
             ],
             [
              0.3333333333333333,
              "#9c179e"
             ],
             [
              0.4444444444444444,
              "#bd3786"
             ],
             [
              0.5555555555555556,
              "#d8576b"
             ],
             [
              0.6666666666666666,
              "#ed7953"
             ],
             [
              0.7777777777777778,
              "#fb9f3a"
             ],
             [
              0.8888888888888888,
              "#fdca26"
             ],
             [
              1,
              "#f0f921"
             ]
            ],
            "type": "histogram2d"
           }
          ],
          "histogram2dcontour": [
           {
            "colorbar": {
             "outlinewidth": 0,
             "ticks": ""
            },
            "colorscale": [
             [
              0,
              "#0d0887"
             ],
             [
              0.1111111111111111,
              "#46039f"
             ],
             [
              0.2222222222222222,
              "#7201a8"
             ],
             [
              0.3333333333333333,
              "#9c179e"
             ],
             [
              0.4444444444444444,
              "#bd3786"
             ],
             [
              0.5555555555555556,
              "#d8576b"
             ],
             [
              0.6666666666666666,
              "#ed7953"
             ],
             [
              0.7777777777777778,
              "#fb9f3a"
             ],
             [
              0.8888888888888888,
              "#fdca26"
             ],
             [
              1,
              "#f0f921"
             ]
            ],
            "type": "histogram2dcontour"
           }
          ],
          "mesh3d": [
           {
            "colorbar": {
             "outlinewidth": 0,
             "ticks": ""
            },
            "type": "mesh3d"
           }
          ],
          "parcoords": [
           {
            "line": {
             "colorbar": {
              "outlinewidth": 0,
              "ticks": ""
             }
            },
            "type": "parcoords"
           }
          ],
          "pie": [
           {
            "automargin": true,
            "type": "pie"
           }
          ],
          "scatter": [
           {
            "fillpattern": {
             "fillmode": "overlay",
             "size": 10,
             "solidity": 0.2
            },
            "type": "scatter"
           }
          ],
          "scatter3d": [
           {
            "line": {
             "colorbar": {
              "outlinewidth": 0,
              "ticks": ""
             }
            },
            "marker": {
             "colorbar": {
              "outlinewidth": 0,
              "ticks": ""
             }
            },
            "type": "scatter3d"
           }
          ],
          "scattercarpet": [
           {
            "marker": {
             "colorbar": {
              "outlinewidth": 0,
              "ticks": ""
             }
            },
            "type": "scattercarpet"
           }
          ],
          "scattergeo": [
           {
            "marker": {
             "colorbar": {
              "outlinewidth": 0,
              "ticks": ""
             }
            },
            "type": "scattergeo"
           }
          ],
          "scattergl": [
           {
            "marker": {
             "colorbar": {
              "outlinewidth": 0,
              "ticks": ""
             }
            },
            "type": "scattergl"
           }
          ],
          "scattermapbox": [
           {
            "marker": {
             "colorbar": {
              "outlinewidth": 0,
              "ticks": ""
             }
            },
            "type": "scattermapbox"
           }
          ],
          "scatterpolar": [
           {
            "marker": {
             "colorbar": {
              "outlinewidth": 0,
              "ticks": ""
             }
            },
            "type": "scatterpolar"
           }
          ],
          "scatterpolargl": [
           {
            "marker": {
             "colorbar": {
              "outlinewidth": 0,
              "ticks": ""
             }
            },
            "type": "scatterpolargl"
           }
          ],
          "scatterternary": [
           {
            "marker": {
             "colorbar": {
              "outlinewidth": 0,
              "ticks": ""
             }
            },
            "type": "scatterternary"
           }
          ],
          "surface": [
           {
            "colorbar": {
             "outlinewidth": 0,
             "ticks": ""
            },
            "colorscale": [
             [
              0,
              "#0d0887"
             ],
             [
              0.1111111111111111,
              "#46039f"
             ],
             [
              0.2222222222222222,
              "#7201a8"
             ],
             [
              0.3333333333333333,
              "#9c179e"
             ],
             [
              0.4444444444444444,
              "#bd3786"
             ],
             [
              0.5555555555555556,
              "#d8576b"
             ],
             [
              0.6666666666666666,
              "#ed7953"
             ],
             [
              0.7777777777777778,
              "#fb9f3a"
             ],
             [
              0.8888888888888888,
              "#fdca26"
             ],
             [
              1,
              "#f0f921"
             ]
            ],
            "type": "surface"
           }
          ],
          "table": [
           {
            "cells": {
             "fill": {
              "color": "#EBF0F8"
             },
             "line": {
              "color": "white"
             }
            },
            "header": {
             "fill": {
              "color": "#C8D4E3"
             },
             "line": {
              "color": "white"
             }
            },
            "type": "table"
           }
          ]
         },
         "layout": {
          "annotationdefaults": {
           "arrowcolor": "#2a3f5f",
           "arrowhead": 0,
           "arrowwidth": 1
          },
          "autotypenumbers": "strict",
          "coloraxis": {
           "colorbar": {
            "outlinewidth": 0,
            "ticks": ""
           }
          },
          "colorscale": {
           "diverging": [
            [
             0,
             "#8e0152"
            ],
            [
             0.1,
             "#c51b7d"
            ],
            [
             0.2,
             "#de77ae"
            ],
            [
             0.3,
             "#f1b6da"
            ],
            [
             0.4,
             "#fde0ef"
            ],
            [
             0.5,
             "#f7f7f7"
            ],
            [
             0.6,
             "#e6f5d0"
            ],
            [
             0.7,
             "#b8e186"
            ],
            [
             0.8,
             "#7fbc41"
            ],
            [
             0.9,
             "#4d9221"
            ],
            [
             1,
             "#276419"
            ]
           ],
           "sequential": [
            [
             0,
             "#0d0887"
            ],
            [
             0.1111111111111111,
             "#46039f"
            ],
            [
             0.2222222222222222,
             "#7201a8"
            ],
            [
             0.3333333333333333,
             "#9c179e"
            ],
            [
             0.4444444444444444,
             "#bd3786"
            ],
            [
             0.5555555555555556,
             "#d8576b"
            ],
            [
             0.6666666666666666,
             "#ed7953"
            ],
            [
             0.7777777777777778,
             "#fb9f3a"
            ],
            [
             0.8888888888888888,
             "#fdca26"
            ],
            [
             1,
             "#f0f921"
            ]
           ],
           "sequentialminus": [
            [
             0,
             "#0d0887"
            ],
            [
             0.1111111111111111,
             "#46039f"
            ],
            [
             0.2222222222222222,
             "#7201a8"
            ],
            [
             0.3333333333333333,
             "#9c179e"
            ],
            [
             0.4444444444444444,
             "#bd3786"
            ],
            [
             0.5555555555555556,
             "#d8576b"
            ],
            [
             0.6666666666666666,
             "#ed7953"
            ],
            [
             0.7777777777777778,
             "#fb9f3a"
            ],
            [
             0.8888888888888888,
             "#fdca26"
            ],
            [
             1,
             "#f0f921"
            ]
           ]
          },
          "colorway": [
           "#636efa",
           "#EF553B",
           "#00cc96",
           "#ab63fa",
           "#FFA15A",
           "#19d3f3",
           "#FF6692",
           "#B6E880",
           "#FF97FF",
           "#FECB52"
          ],
          "font": {
           "color": "#2a3f5f"
          },
          "geo": {
           "bgcolor": "white",
           "lakecolor": "white",
           "landcolor": "#E5ECF6",
           "showlakes": true,
           "showland": true,
           "subunitcolor": "white"
          },
          "hoverlabel": {
           "align": "left"
          },
          "hovermode": "closest",
          "mapbox": {
           "style": "light"
          },
          "paper_bgcolor": "white",
          "plot_bgcolor": "#E5ECF6",
          "polar": {
           "angularaxis": {
            "gridcolor": "white",
            "linecolor": "white",
            "ticks": ""
           },
           "bgcolor": "#E5ECF6",
           "radialaxis": {
            "gridcolor": "white",
            "linecolor": "white",
            "ticks": ""
           }
          },
          "scene": {
           "xaxis": {
            "backgroundcolor": "#E5ECF6",
            "gridcolor": "white",
            "gridwidth": 2,
            "linecolor": "white",
            "showbackground": true,
            "ticks": "",
            "zerolinecolor": "white"
           },
           "yaxis": {
            "backgroundcolor": "#E5ECF6",
            "gridcolor": "white",
            "gridwidth": 2,
            "linecolor": "white",
            "showbackground": true,
            "ticks": "",
            "zerolinecolor": "white"
           },
           "zaxis": {
            "backgroundcolor": "#E5ECF6",
            "gridcolor": "white",
            "gridwidth": 2,
            "linecolor": "white",
            "showbackground": true,
            "ticks": "",
            "zerolinecolor": "white"
           }
          },
          "shapedefaults": {
           "line": {
            "color": "#2a3f5f"
           }
          },
          "ternary": {
           "aaxis": {
            "gridcolor": "white",
            "linecolor": "white",
            "ticks": ""
           },
           "baxis": {
            "gridcolor": "white",
            "linecolor": "white",
            "ticks": ""
           },
           "bgcolor": "#E5ECF6",
           "caxis": {
            "gridcolor": "white",
            "linecolor": "white",
            "ticks": ""
           }
          },
          "title": {
           "x": 0.05
          },
          "xaxis": {
           "automargin": true,
           "gridcolor": "white",
           "linecolor": "white",
           "ticks": "",
           "title": {
            "standoff": 15
           },
           "zerolinecolor": "white",
           "zerolinewidth": 2
          },
          "yaxis": {
           "automargin": true,
           "gridcolor": "white",
           "linecolor": "white",
           "ticks": "",
           "title": {
            "standoff": 15
           },
           "zerolinecolor": "white",
           "zerolinewidth": 2
          }
         }
        }
       }
      },
      "image/png": "[encoded data removed]",
      "text/html": [
       "<div>                            <div id=\"cd8b29d6-bf79-4ca4-b959-7450abe6e287\" class=\"plotly-graph-div\" style=\"height:525px; width:100%;\"></div>            <script type=\"text/javascript\">                require([\"plotly\"], function(Plotly) {                    window.PLOTLYENV=window.PLOTLYENV || {};                                    if (document.getElementById(\"cd8b29d6-bf79-4ca4-b959-7450abe6e287\")) {                    Plotly.newPlot(                        \"cd8b29d6-bf79-4ca4-b959-7450abe6e287\",                        [{\"domain\":{\"x\":[0.0,1.0],\"y\":[0.0,1.0]},\"hovertemplate\":\"name=%{label}<br>count=%{value}<extra></extra>\",\"labels\":[\"per_curiam\",\"Justice White\",\"Justice Harlan\",\"Justice Stevens\",\"Justice Douglas\",\"Justice Brennan\",\"Justice Holmes\",\"Justice Marshall\",\"Justice Black\",\"Justice Waite\",\"Justice Rehnquist\",\"Justice Fuller\",\"Justice Scalia\",\"Justice Blackmun\",\"Justice Mckenna\",\"Justice Miller\",\"Justice Brewer\",\"Justice Thomas\",\"Justice Stewart\",\"Justice Frankfurter\",\"Justice Field\",\"Justice Stone\",\"Justice O'Connor\",\"Justice McReynolds\",\"Justice Brandeis\",\"Other\",\"Other\",\"Other\",\"Other\",\"Other\",\"Other\",\"Other\",\"Other\",\"Other\",\"Other\",\"Other\",\"Other\",\"Other\",\"Other\",\"Other\",\"Other\",\"Other\",\"Other\",\"Other\",\"Other\",\"Other\",\"Other\",\"Other\",\"Other\",\"Other\",\"Other\",\"Other\",\"Other\",\"Other\",\"Other\",\"Other\",\"Other\",\"Other\",\"Other\",\"Other\",\"Other\",\"Other\",\"Other\",\"Other\",\"Other\",\"Other\",\"Other\",\"Other\",\"Other\",\"Other\",\"Other\",\"Other\",\"Other\",\"Other\",\"Other\",\"Other\",\"Other\",\"Other\",\"Other\",\"Other\",\"Other\",\"Other\",\"Other\",\"Other\",\"Other\",\"Other\",\"Other\",\"Other\",\"Other\",\"Other\",\"Other\",\"Other\",\"Other\",\"Other\",\"Other\",\"Other\",\"Other\",\"Other\",\"Other\",\"Other\",\"Other\",\"Other\",\"Other\",\"Other\",\"Other\",\"Other\",\"Other\",\"Other\",\"Other\",\"Other\",\"Other\",\"Other\",\"Other\",\"Other\",\"Other\",\"Other\",\"Other\",\"Other\",\"Other\",\"Other\",\"Other\",\"Other\"],\"legendgroup\":\"\",\"name\":\"\",\"showlegend\":true,\"values\":[2451,1517,1333,1181,1109,942,937,851,834,821,752,749,718,654,647,632,577,551,540,540,524,519,518,515,508,494,461,457,455,447,422,418,416,416,414,407,406,389,360,357,321,319,312,310,307,292,291,272,266,263,255,246,243,239,221,213,210,208,182,180,175,172,162,157,156,152,151,148,147,143,133,128,124,110,98,95,92,91,89,84,82,78,77,70,68,66,51,47,42,42,29,20,17,15,15,13,9,7,5,5,3,2,2,2,1,1,1,1,1,1,1,1,1,1,1,1,1,1,1,1,1,1],\"type\":\"pie\"}],                        {\"template\":{\"data\":{\"histogram2dcontour\":[{\"type\":\"histogram2dcontour\",\"colorbar\":{\"outlinewidth\":0,\"ticks\":\"\"},\"colorscale\":[[0.0,\"#0d0887\"],[0.1111111111111111,\"#46039f\"],[0.2222222222222222,\"#7201a8\"],[0.3333333333333333,\"#9c179e\"],[0.4444444444444444,\"#bd3786\"],[0.5555555555555556,\"#d8576b\"],[0.6666666666666666,\"#ed7953\"],[0.7777777777777778,\"#fb9f3a\"],[0.8888888888888888,\"#fdca26\"],[1.0,\"#f0f921\"]]}],\"choropleth\":[{\"type\":\"choropleth\",\"colorbar\":{\"outlinewidth\":0,\"ticks\":\"\"}}],\"histogram2d\":[{\"type\":\"histogram2d\",\"colorbar\":{\"outlinewidth\":0,\"ticks\":\"\"},\"colorscale\":[[0.0,\"#0d0887\"],[0.1111111111111111,\"#46039f\"],[0.2222222222222222,\"#7201a8\"],[0.3333333333333333,\"#9c179e\"],[0.4444444444444444,\"#bd3786\"],[0.5555555555555556,\"#d8576b\"],[0.6666666666666666,\"#ed7953\"],[0.7777777777777778,\"#fb9f3a\"],[0.8888888888888888,\"#fdca26\"],[1.0,\"#f0f921\"]]}],\"heatmap\":[{\"type\":\"heatmap\",\"colorbar\":{\"outlinewidth\":0,\"ticks\":\"\"},\"colorscale\":[[0.0,\"#0d0887\"],[0.1111111111111111,\"#46039f\"],[0.2222222222222222,\"#7201a8\"],[0.3333333333333333,\"#9c179e\"],[0.4444444444444444,\"#bd3786\"],[0.5555555555555556,\"#d8576b\"],[0.6666666666666666,\"#ed7953\"],[0.7777777777777778,\"#fb9f3a\"],[0.8888888888888888,\"#fdca26\"],[1.0,\"#f0f921\"]]}],\"heatmapgl\":[{\"type\":\"heatmapgl\",\"colorbar\":{\"outlinewidth\":0,\"ticks\":\"\"},\"colorscale\":[[0.0,\"#0d0887\"],[0.1111111111111111,\"#46039f\"],[0.2222222222222222,\"#7201a8\"],[0.3333333333333333,\"#9c179e\"],[0.4444444444444444,\"#bd3786\"],[0.5555555555555556,\"#d8576b\"],[0.6666666666666666,\"#ed7953\"],[0.7777777777777778,\"#fb9f3a\"],[0.8888888888888888,\"#fdca26\"],[1.0,\"#f0f921\"]]}],\"contourcarpet\":[{\"type\":\"contourcarpet\",\"colorbar\":{\"outlinewidth\":0,\"ticks\":\"\"}}],\"contour\":[{\"type\":\"contour\",\"colorbar\":{\"outlinewidth\":0,\"ticks\":\"\"},\"colorscale\":[[0.0,\"#0d0887\"],[0.1111111111111111,\"#46039f\"],[0.2222222222222222,\"#7201a8\"],[0.3333333333333333,\"#9c179e\"],[0.4444444444444444,\"#bd3786\"],[0.5555555555555556,\"#d8576b\"],[0.6666666666666666,\"#ed7953\"],[0.7777777777777778,\"#fb9f3a\"],[0.8888888888888888,\"#fdca26\"],[1.0,\"#f0f921\"]]}],\"surface\":[{\"type\":\"surface\",\"colorbar\":{\"outlinewidth\":0,\"ticks\":\"\"},\"colorscale\":[[0.0,\"#0d0887\"],[0.1111111111111111,\"#46039f\"],[0.2222222222222222,\"#7201a8\"],[0.3333333333333333,\"#9c179e\"],[0.4444444444444444,\"#bd3786\"],[0.5555555555555556,\"#d8576b\"],[0.6666666666666666,\"#ed7953\"],[0.7777777777777778,\"#fb9f3a\"],[0.8888888888888888,\"#fdca26\"],[1.0,\"#f0f921\"]]}],\"mesh3d\":[{\"type\":\"mesh3d\",\"colorbar\":{\"outlinewidth\":0,\"ticks\":\"\"}}],\"scatter\":[{\"fillpattern\":{\"fillmode\":\"overlay\",\"size\":10,\"solidity\":0.2},\"type\":\"scatter\"}],\"parcoords\":[{\"type\":\"parcoords\",\"line\":{\"colorbar\":{\"outlinewidth\":0,\"ticks\":\"\"}}}],\"scatterpolargl\":[{\"type\":\"scatterpolargl\",\"marker\":{\"colorbar\":{\"outlinewidth\":0,\"ticks\":\"\"}}}],\"bar\":[{\"error_x\":{\"color\":\"#2a3f5f\"},\"error_y\":{\"color\":\"#2a3f5f\"},\"marker\":{\"line\":{\"color\":\"#E5ECF6\",\"width\":0.5},\"pattern\":{\"fillmode\":\"overlay\",\"size\":10,\"solidity\":0.2}},\"type\":\"bar\"}],\"scattergeo\":[{\"type\":\"scattergeo\",\"marker\":{\"colorbar\":{\"outlinewidth\":0,\"ticks\":\"\"}}}],\"scatterpolar\":[{\"type\":\"scatterpolar\",\"marker\":{\"colorbar\":{\"outlinewidth\":0,\"ticks\":\"\"}}}],\"histogram\":[{\"marker\":{\"pattern\":{\"fillmode\":\"overlay\",\"size\":10,\"solidity\":0.2}},\"type\":\"histogram\"}],\"scattergl\":[{\"type\":\"scattergl\",\"marker\":{\"colorbar\":{\"outlinewidth\":0,\"ticks\":\"\"}}}],\"scatter3d\":[{\"type\":\"scatter3d\",\"line\":{\"colorbar\":{\"outlinewidth\":0,\"ticks\":\"\"}},\"marker\":{\"colorbar\":{\"outlinewidth\":0,\"ticks\":\"\"}}}],\"scattermapbox\":[{\"type\":\"scattermapbox\",\"marker\":{\"colorbar\":{\"outlinewidth\":0,\"ticks\":\"\"}}}],\"scatterternary\":[{\"type\":\"scatterternary\",\"marker\":{\"colorbar\":{\"outlinewidth\":0,\"ticks\":\"\"}}}],\"scattercarpet\":[{\"type\":\"scattercarpet\",\"marker\":{\"colorbar\":{\"outlinewidth\":0,\"ticks\":\"\"}}}],\"carpet\":[{\"aaxis\":{\"endlinecolor\":\"#2a3f5f\",\"gridcolor\":\"white\",\"linecolor\":\"white\",\"minorgridcolor\":\"white\",\"startlinecolor\":\"#2a3f5f\"},\"baxis\":{\"endlinecolor\":\"#2a3f5f\",\"gridcolor\":\"white\",\"linecolor\":\"white\",\"minorgridcolor\":\"white\",\"startlinecolor\":\"#2a3f5f\"},\"type\":\"carpet\"}],\"table\":[{\"cells\":{\"fill\":{\"color\":\"#EBF0F8\"},\"line\":{\"color\":\"white\"}},\"header\":{\"fill\":{\"color\":\"#C8D4E3\"},\"line\":{\"color\":\"white\"}},\"type\":\"table\"}],\"barpolar\":[{\"marker\":{\"line\":{\"color\":\"#E5ECF6\",\"width\":0.5},\"pattern\":{\"fillmode\":\"overlay\",\"size\":10,\"solidity\":0.2}},\"type\":\"barpolar\"}],\"pie\":[{\"automargin\":true,\"type\":\"pie\"}]},\"layout\":{\"autotypenumbers\":\"strict\",\"colorway\":[\"#636efa\",\"#EF553B\",\"#00cc96\",\"#ab63fa\",\"#FFA15A\",\"#19d3f3\",\"#FF6692\",\"#B6E880\",\"#FF97FF\",\"#FECB52\"],\"font\":{\"color\":\"#2a3f5f\"},\"hovermode\":\"closest\",\"hoverlabel\":{\"align\":\"left\"},\"paper_bgcolor\":\"white\",\"plot_bgcolor\":\"#E5ECF6\",\"polar\":{\"bgcolor\":\"#E5ECF6\",\"angularaxis\":{\"gridcolor\":\"white\",\"linecolor\":\"white\",\"ticks\":\"\"},\"radialaxis\":{\"gridcolor\":\"white\",\"linecolor\":\"white\",\"ticks\":\"\"}},\"ternary\":{\"bgcolor\":\"#E5ECF6\",\"aaxis\":{\"gridcolor\":\"white\",\"linecolor\":\"white\",\"ticks\":\"\"},\"baxis\":{\"gridcolor\":\"white\",\"linecolor\":\"white\",\"ticks\":\"\"},\"caxis\":{\"gridcolor\":\"white\",\"linecolor\":\"white\",\"ticks\":\"\"}},\"coloraxis\":{\"colorbar\":{\"outlinewidth\":0,\"ticks\":\"\"}},\"colorscale\":{\"sequential\":[[0.0,\"#0d0887\"],[0.1111111111111111,\"#46039f\"],[0.2222222222222222,\"#7201a8\"],[0.3333333333333333,\"#9c179e\"],[0.4444444444444444,\"#bd3786\"],[0.5555555555555556,\"#d8576b\"],[0.6666666666666666,\"#ed7953\"],[0.7777777777777778,\"#fb9f3a\"],[0.8888888888888888,\"#fdca26\"],[1.0,\"#f0f921\"]],\"sequentialminus\":[[0.0,\"#0d0887\"],[0.1111111111111111,\"#46039f\"],[0.2222222222222222,\"#7201a8\"],[0.3333333333333333,\"#9c179e\"],[0.4444444444444444,\"#bd3786\"],[0.5555555555555556,\"#d8576b\"],[0.6666666666666666,\"#ed7953\"],[0.7777777777777778,\"#fb9f3a\"],[0.8888888888888888,\"#fdca26\"],[1.0,\"#f0f921\"]],\"diverging\":[[0,\"#8e0152\"],[0.1,\"#c51b7d\"],[0.2,\"#de77ae\"],[0.3,\"#f1b6da\"],[0.4,\"#fde0ef\"],[0.5,\"#f7f7f7\"],[0.6,\"#e6f5d0\"],[0.7,\"#b8e186\"],[0.8,\"#7fbc41\"],[0.9,\"#4d9221\"],[1,\"#276419\"]]},\"xaxis\":{\"gridcolor\":\"white\",\"linecolor\":\"white\",\"ticks\":\"\",\"title\":{\"standoff\":15},\"zerolinecolor\":\"white\",\"automargin\":true,\"zerolinewidth\":2},\"yaxis\":{\"gridcolor\":\"white\",\"linecolor\":\"white\",\"ticks\":\"\",\"title\":{\"standoff\":15},\"zerolinecolor\":\"white\",\"automargin\":true,\"zerolinewidth\":2},\"scene\":{\"xaxis\":{\"backgroundcolor\":\"#E5ECF6\",\"gridcolor\":\"white\",\"linecolor\":\"white\",\"showbackground\":true,\"ticks\":\"\",\"zerolinecolor\":\"white\",\"gridwidth\":2},\"yaxis\":{\"backgroundcolor\":\"#E5ECF6\",\"gridcolor\":\"white\",\"linecolor\":\"white\",\"showbackground\":true,\"ticks\":\"\",\"zerolinecolor\":\"white\",\"gridwidth\":2},\"zaxis\":{\"backgroundcolor\":\"#E5ECF6\",\"gridcolor\":\"white\",\"linecolor\":\"white\",\"showbackground\":true,\"ticks\":\"\",\"zerolinecolor\":\"white\",\"gridwidth\":2}},\"shapedefaults\":{\"line\":{\"color\":\"#2a3f5f\"}},\"annotationdefaults\":{\"arrowcolor\":\"#2a3f5f\",\"arrowhead\":0,\"arrowwidth\":1},\"geo\":{\"bgcolor\":\"white\",\"landcolor\":\"#E5ECF6\",\"subunitcolor\":\"white\",\"showland\":true,\"showlakes\":true,\"lakecolor\":\"white\"},\"title\":{\"x\":0.05},\"mapbox\":{\"style\":\"light\"}}},\"legend\":{\"tracegroupgap\":0},\"margin\":{\"t\":60}},                        {\"responsive\": true}                    ).then(function(){\n",
       "                            \n",
       "var gd = document.getElementById('cd8b29d6-bf79-4ca4-b959-7450abe6e287');\n",
       "var x = new MutationObserver(function (mutations, observer) {{\n",
       "        var display = window.getComputedStyle(gd).display;\n",
       "        if (!display || display === 'none') {{\n",
       "            console.log([gd, 'removed!']);\n",
       "            Plotly.purge(gd);\n",
       "            observer.disconnect();\n",
       "        }}\n",
       "}});\n",
       "\n",
       "// Listen for the removal of the full notebook cells\n",
       "var notebookContainer = gd.closest('#notebook-container');\n",
       "if (notebookContainer) {{\n",
       "    x.observe(notebookContainer, {childList: true});\n",
       "}}\n",
       "\n",
       "// Listen for the clearing of the current output cell\n",
       "var outputEl = gd.closest('.output');\n",
       "if (outputEl) {{\n",
       "    x.observe(outputEl, {childList: true});\n",
       "}}\n",
       "\n",
       "                        })                };                });            </script>        </div>"
      ]
     },
     "metadata": {},
     "output_type": "display_data"
    }
   ],
   "source": [
    "import matplotlib.pyplot as plt\n",
    "author_name_counts = opinions['author_name'].value_counts()\n",
    "\n",
    "labels = []\n",
    "sizes = []\n",
    "\n",
    "for name, count in author_name_counts.iteritems():\n",
    "    if count < 500:\n",
    "        labels.append(\"Other\")\n",
    "        sizes.append(count)\n",
    "    else:\n",
    "        labels.append(name)\n",
    "        sizes.append(count)\n",
    "\n",
    "pie = pd.concat([pd.DataFrame(labels, columns = ['name']),pd.DataFrame(sizes, columns = ['count'])], axis =1)\n",
    "# pie = pie.groupby('name').sum()\n",
    "# pie = pie.reset_index()\n",
    "\n",
    "import plotly.express as px\n",
    "\n",
    "fig = px.pie(pie, values='count', names='name')\n",
    "fig.show()\n"
   ]
  },
  {
   "cell_type": "markdown",
   "id": "c6fb9ca2-7f00-4e1b-a323-aed144ed7710",
   "metadata": {},
   "source": [
    "## Using LDA from Gensim"
   ]
  },
  {
   "cell_type": "code",
   "execution_count": 275,
   "id": "f6b0ec2e-6022-4b88-b263-7b7e02ab644f",
   "metadata": {},
   "outputs": [],
   "source": [
    "import gensim\n",
    "import gensim.corpora as corpora\n",
    "from gensim.utils import simple_preprocess\n",
    "from gensim.models.coherencemodel import CoherenceModel\n",
    "\n",
    "import spacy\n",
    "from nltk.corpus import stopwords\n",
    "\n",
    "import pyLDAvis\n",
    "import pyLDAvis.gensim"
   ]
  },
  {
   "cell_type": "markdown",
   "id": "f013f7b3-b180-4987-a611-d477aa1adbba",
   "metadata": {},
   "source": [
    "Lemmatize the text:\n",
    "\n",
    "Lemmatization is a process of grouping together different inflected forms of a word so they can be analysed as a single item. This is done by reducing inflected (or sometimes derived) words to their word stem, base or root, generally known as the lemma. For example, the lemma of the word 'studying', is 'study'. Lemmatization is typically used to reduce inflectional forms and sometimes derivationally related forms of a word to a common base form. It is used to improve the accuracy of search engine results, text analytics, and other NLP tasks."
   ]
  },
  {
   "cell_type": "code",
   "execution_count": 291,
   "id": "e05dbb9b-69fe-465f-8448-6b70dacce2bb",
   "metadata": {},
   "outputs": [],
   "source": [
    "\n",
    "def lemmatization(texts, allowed_postags=[\"NOUN\", \"ADJ\", \"VERB\", \"ADV\"]):\n",
    "    nlp = spacy.load(\"en_core_web_sm\", disable=[\"parser\", \"ner\"])\n",
    "    texts_out = []\n",
    "    for text in texts:\n",
    "        doc = nlp(text)\n",
    "        new_text = []\n",
    "        for token in doc:\n",
    "            if token.pos_ in allowed_postags:\n",
    "                new_text.append(token.lemma_)\n",
    "        final = \" \".join(new_text)\n",
    "        texts_out.append(final)\n",
    "    return (texts_out)\n",
    "    \n",
    "lem_text = lemmatization(docs)\n"
   ]
  },
  {
   "cell_type": "markdown",
   "id": "2106ffce-c5f2-4dd0-8529-da528ab60780",
   "metadata": {},
   "source": [
    "Remove stopwords and a few custom words from lemmatized text"
   ]
  },
  {
   "cell_type": "code",
   "execution_count": 296,
   "id": "72906e7f-8778-4183-935b-8941747ca07a",
   "metadata": {},
   "outputs": [],
   "source": [
    "def rem_sw(var_in):\n",
    "    from nltk.corpus import stopwords\n",
    "    sw = stopwords.words(\"english\")\n",
    "    sw.extend(['see','file','hold','use','only','also','other','make','I'])\n",
    "    sw.remove('no')\n",
    "    sw.remove('not')\n",
    "    tmp = var_in.split()\n",
    "    # tmp_ar = list()\n",
    "    # for word_t in tmp:\n",
    "    #     if word_t not in sw:\n",
    "    #         tmp_ar.append(word_t)\n",
    "    tmp_ar = [word_t for word_t in tmp if word_t not in sw]\n",
    "    tmp_o = ' '.join(tmp_ar)\n",
    "    return tmp_o \n",
    "\n",
    "docs_clean = [rem_sw(text) for text in lem_text]"
   ]
  },
  {
   "cell_type": "markdown",
   "id": "bcbe4a05-eda5-4a04-98ef-0be07681a99f",
   "metadata": {},
   "source": [
    "###### Make a bag of words to review work frequency"
   ]
  },
  {
   "cell_type": "code",
   "execution_count": 299,
   "id": "8b5eeaaf-3346-4249-876a-fcc404ba25a9",
   "metadata": {},
   "outputs": [
    {
     "data": {
      "text/html": [
       "<div>\n",
       "<style scoped>\n",
       "    .dataframe tbody tr th:only-of-type {\n",
       "        vertical-align: middle;\n",
       "    }\n",
       "\n",
       "    .dataframe tbody tr th {\n",
       "        vertical-align: top;\n",
       "    }\n",
       "\n",
       "    .dataframe thead th {\n",
       "        text-align: right;\n",
       "    }\n",
       "</style>\n",
       "<table border=\"1\" class=\"dataframe\">\n",
       "  <thead>\n",
       "    <tr style=\"text-align: right;\">\n",
       "      <th></th>\n",
       "      <th>frequency</th>\n",
       "    </tr>\n",
       "  </thead>\n",
       "  <tbody>\n",
       "    <tr>\n",
       "      <th>court</th>\n",
       "      <td>6787</td>\n",
       "    </tr>\n",
       "    <tr>\n",
       "      <th>law</th>\n",
       "      <td>5934</td>\n",
       "    </tr>\n",
       "    <tr>\n",
       "      <th>state</th>\n",
       "      <td>5709</td>\n",
       "    </tr>\n",
       "    <tr>\n",
       "      <th>case</th>\n",
       "      <td>5636</td>\n",
       "    </tr>\n",
       "    <tr>\n",
       "      <th>claim</th>\n",
       "      <td>4364</td>\n",
       "    </tr>\n",
       "    <tr>\n",
       "      <th>right</th>\n",
       "      <td>3537</td>\n",
       "    </tr>\n",
       "    <tr>\n",
       "      <th>federal</th>\n",
       "      <td>3472</td>\n",
       "    </tr>\n",
       "    <tr>\n",
       "      <th>statute</th>\n",
       "      <td>3237</td>\n",
       "    </tr>\n",
       "    <tr>\n",
       "      <th>rule</th>\n",
       "      <td>2833</td>\n",
       "    </tr>\n",
       "    <tr>\n",
       "      <th>supra</th>\n",
       "      <td>2795</td>\n",
       "    </tr>\n",
       "  </tbody>\n",
       "</table>\n",
       "</div>"
      ],
      "text/plain": [
       "         frequency\n",
       "court         6787\n",
       "law           5934\n",
       "state         5709\n",
       "case          5636\n",
       "claim         4364\n",
       "right         3537\n",
       "federal       3472\n",
       "statute       3237\n",
       "rule          2833\n",
       "supra         2795"
      ]
     },
     "execution_count": 299,
     "metadata": {},
     "output_type": "execute_result"
    }
   ],
   "source": [
    "bag_of_words(docs_clean)[0:10]"
   ]
  },
  {
   "cell_type": "markdown",
   "id": "d89fcca7-c7fb-4912-9191-52d3b6b83655",
   "metadata": {},
   "source": [
    "##### Use gensim preprocesssing pipeline to remove symbos and whatever else it does lol"
   ]
  },
  {
   "cell_type": "code",
   "execution_count": 163,
   "id": "ff5e0502-6975-45f4-b36e-86c52731430d",
   "metadata": {},
   "outputs": [],
   "source": [
    "# preprocesses the words to take out stopwords and remove accent marks\n",
    "def gen_words(texts):\n",
    "    final = []\n",
    "    for text in texts:\n",
    "        new = gensim.utils.simple_preprocess(text, deacc=True)\n",
    "        final.append(new)\n",
    "    return final\n",
    "    \n",
    "data_words = gen_words(lem_text)"
   ]
  },
  {
   "cell_type": "markdown",
   "id": "3a447a59-a208-40ab-a761-e666c55f27d9",
   "metadata": {},
   "source": [
    "##### Make bi-grams and tri-grams to get at phrases"
   ]
  },
  {
   "cell_type": "code",
   "execution_count": 343,
   "id": "ceb957c5-520e-447b-8481-92b6ec5f87b8",
   "metadata": {},
   "outputs": [],
   "source": [
    "#Bigrams and Trigrams\n",
    "bigram_phrases = gensim.models.Phrases(data_words, min_count = 5, threshold=50)\n",
    "trigram_phrases = gensim.models.Phrases(bigram_phrases[data_words], threshold=50)\n",
    "\n",
    "bigram = gensim.models.phrases.Phraser(bigram_phrases)\n",
    "trigram = gensim.models.phrases.Phraser(trigram_phrases)\n",
    "\n",
    "def make_bigram(texts):\n",
    "    return(bigram[doc] for doc in texts)\n",
    "\n",
    "def make_trigram(texts):\n",
    "    return(trigram[bigram[doc]] for doc in texts)\n",
    "\n",
    "data_bigrams = make_bigram(data_words)\n",
    "data_bigrams_trigrams = make_trigram(data_bigrams)"
   ]
  },
  {
   "cell_type": "code",
   "execution_count": 344,
   "id": "10aad6ab-ad40-47ef-bc7a-82499dd6a77f",
   "metadata": {},
   "outputs": [],
   "source": [
    "data_bigrams_trigrams_list = []\n",
    "for phrase in data_bigrams_trigrams:\n",
    "    data_bigrams_trigrams_list.append(phrase)"
   ]
  },
  {
   "cell_type": "code",
   "execution_count": 354,
   "id": "40dbcb9a-dd29-470d-81f5-5a3b2d321a75",
   "metadata": {},
   "outputs": [
    {
     "data": {
      "text/plain": [
       "['concur',\n",
       " 'stress',\n",
       " 'sexual_harassment',\n",
       " 'case',\n",
       " 'plaintiff',\n",
       " 'plead',\n",
       " 'ultimately',\n",
       " 'prove',\n",
       " 'statutory',\n",
       " 'requirement',\n",
       " 'discrimination',\n",
       " 'sex']"
      ]
     },
     "execution_count": 354,
     "metadata": {},
     "output_type": "execute_result"
    }
   ],
   "source": [
    "data_bigrams_trigrams_list[1]"
   ]
  },
  {
   "cell_type": "code",
   "execution_count": 357,
   "id": "0f616cc3-f786-41d9-a961-5f24c8534865",
   "metadata": {},
   "outputs": [],
   "source": [
    "from gensim.models import TfidfModel\n",
    "id2word = corpora.Dictionary(data_bigrams_trigrams_list)\n",
    "texts = data_bigrams_trigrams_list\n",
    "corpus = [id2word.doc2bow(text) for text in texts]"
   ]
  },
  {
   "cell_type": "code",
   "execution_count": 361,
   "id": "4e07d9e5-0492-4672-91f9-e12f08cd6c58",
   "metadata": {},
   "outputs": [
    {
     "name": "stdout",
     "output_type": "stream",
     "text": [
      "[(0, 1), (1, 1), (2, 1), (3, 1), (4, 1), (5, 1), (6, 1), (7, 1), (8, 1), (9, 1), (10, 4), (11, 1), (12, 1), (13, 1), (14, 6), (15, 4), (16, 1), (17, 2), (18, 1), (19, 1)]\n"
     ]
    }
   ],
   "source": [
    "from gensim.models import TfidfModel\n",
    "id2word = corpora.Dictionary(data_bigrams_trigrams_list)\n",
    "texts = data_bigrams_trigrams_list\n",
    "corpus = [id2word.doc2bow(text) for text in texts]\n",
    "print(corpus[0][0:20])\n",
    "\n",
    "tfidf = TfidfModel(corpus, id2word=id2word)\n",
    "low_value = 0.03\n",
    "words = []\n",
    "words_missing_in_tfidf = []\n",
    "\n",
    "for i in range(0,len(corpus)):\n",
    "    bow = corpus[i]\n",
    "    low_value_words = []\n",
    "    tfidf_ids=[id for id, value in tfidf[bow]]\n",
    "    bow_ids = [id for id, value in bow]\n",
    "    low_value_words = [id for id, value in tfidf[bow] if value<low_value]\n",
    "    drops = low_value_words+words_missing_in_tfidf\n",
    "    for item in drops: \n",
    "        words.append(id2word[item])\n",
    "    words_missing_in_tfidf = [id for id in bow_ids if id not in tfidf_ids]\n",
    "    \n",
    "    new_bow = [b for b in bow if b[0] not in low_value_words and b[0] not in words_missing_in_tfidf]\n",
    "    corpus[i] = new_bow"
   ]
  },
  {
   "cell_type": "code",
   "execution_count": 364,
   "id": "a441f8df-7dbf-4e09-9147-d68cd8dea6b1",
   "metadata": {},
   "outputs": [],
   "source": [
    "lda_model = gensim.models.ldamodel.LdaModel(corpus = corpus,\n",
    "                                            id2word = id2word,\n",
    "                                            num_topics = 10,\n",
    "                                            update_every = 1,\n",
    "                                            chunksize=100,\n",
    "                                            passes=10,\n",
    "                                            alpha=\"auto\")"
   ]
  },
  {
   "cell_type": "code",
   "execution_count": 366,
   "id": "8e031d59-5693-4e3a-b6c8-eb028798dbbf",
   "metadata": {},
   "outputs": [
    {
     "name": "stderr",
     "output_type": "stream",
     "text": [
      "WARNING:root:Unknown mds `mmda`, switch to PCoA\n",
      "C:\\Users\\tahas\\anaconda3\\lib\\site-packages\\pyLDAvis\\_prepare.py:243: FutureWarning:\n",
      "\n",
      "In a future version of pandas all arguments of DataFrame.drop except for the argument 'labels' will be keyword-only.\n",
      "\n"
     ]
    },
    {
     "data": {
      "text/html": [
       "\n",
       "<link rel=\"stylesheet\" type=\"text/css\" href=\"https://cdn.jsdelivr.net/gh/bmabey/pyLDAvis@3.4.0/pyLDAvis/js/ldavis.v1.0.0.css\">\n",
       "\n",
       "\n",
       "<div id=\"ldavis_el2438827642350070247988918186\" style=\"background-color:white;\"></div>\n",
       "<script type=\"text/javascript\">\n",
       "\n",
       "var ldavis_el2438827642350070247988918186_data = {\"mdsDat\": {\"x\": [0.11875384136181526, -0.13889777935439124, 0.23867049498801648, -0.0765073524871329, 0.2632392387248299, -0.05692118496149622, -0.08929640060323066, -0.07200689405036446, -0.045957926116191254, -0.1410760375018545], \"y\": [0.24411118063577067, 0.14630957727115332, 0.024614239243245857, -0.015186982566667902, -0.14135935075657416, 0.06981434520247638, 0.11799029060530551, -0.1526136289700243, -0.17244581019269065, -0.12123386047199468], \"topics\": [1, 2, 3, 4, 5, 6, 7, 8, 9, 10], \"cluster\": [1, 1, 1, 1, 1, 1, 1, 1, 1, 1], \"Freq\": [15.72282337872451, 14.997958522442016, 12.45031160706644, 11.241881272276135, 9.047345310356512, 8.432382381621814, 8.35567340205014, 7.963615986036884, 5.908632330098692, 5.87937580932686]}, \"tinfo\": {\"Term\": [\"state\", \"law\", \"court\", \"claim\", \"trial\", \"federal\", \"defendant\", \"power\", \"tax\", \"patent\", \"rule\", \"property\", \"officer\", \"service\", \"majority\", \"counsel\", \"party\", \"jury\", \"district\", \"right\", \"fee\", \"sentence\", \"plan\", \"offense\", \"file\", \"agency\", \"benefit\", \"subsection\", \"evidence\", \"motion\", \"state\", \"law\", \"court\", \"judicial\", \"prevail_party\", \"consent\", \"adjudicate\", \"permit\", \"write\", \"tribunal\", \"original\", \"arbitrator\", \"delegate\", \"competence\", \"same\", \"hear\", \"award_attorney_fee\", \"arbitrability\", \"fmc\", \"own\", \"successor\", \"add\", \"meet\", \"evidentiary_hearing\", \"entertain\", \"govern\", \"say\", \"arbitrate\", \"separate_sovereign_doctrine\", \"contain\", \"power\", \"abortion\", \"adjudication\", \"qualification\", \"administrative\", \"party\", \"jurisdiction\", \"decision\", \"federal\", \"precedent\", \"concur\", \"exercise\", \"tion\", \"personal\", \"right\", \"judge\", \"cost\", \"constitutional\", \"clause\", \"claim\", \"proceeding\", \"dissent\", \"holding\", \"suit\", \"ante\", \"majority\", \"private\", \"statute\", \"strike\", \"authority\", \"review\", \"district\", \"damage\", \"fiduciary\", \"provide\", \"arbitration_agreement\", \"sponsor\", \"signatory_operator\", \"student\", \"beneficiary\", \"parent\", \"arbitration_clause\", \"cause_action\", \"recover\", \"recovery\", \"grievance\", \"labor\", \"injunction\", \"retiree\", \"entity\", \"seaman\", \"breach\", \"resolve\", \"biosimilar\", \"plan_participant\", \"flow\", \"drought\", \"behalf\", \"administration\", \"maritime\", \"available\", \"aid\", \"water\", \"benefit\", \"award\", \"arbitration\", \"religious\", \"fee_award\", \"act\", \"school\", \"remedy\", \"applicant\", \"plan\", \"agreement\", \"employee\", \"program\", \"child\", \"tort\", \"dispute\", \"relief\", \"public\", \"employer\", \"private\", \"liability\", \"action\", \"injury\", \"provision\", \"plaintiff\", \"contract\", \"claim\", \"common_law\", \"person\", \"alien\", \"result\", \"felony\", \"writ\", \"force\", \"witness\", \"prior\", \"military_commission\", \"robbery\", \"retroactivity\", \"firearm\", \"maximum\", \"punish\", \"nature\", \"country\", \"mental\", \"plea\", \"habeas\", \"automatic\", \"dangerous\", \"necessary\", \"postconviction\", \"announce\", \"kill\", \"prescribe\", \"physical_force\", \"innocent\", \"currency\", \"war\", \"reasonable_doubt\", \"commit\", \"offense\", \"conviction\", \"element\", \"rule\", \"habea\", \"prisoner\", \"crime\", \"error\", \"cause\", \"plurality\", \"statute\", \"criminal\", \"punishment\", \"direct\", \"convict\", \"respondent\", \"petitioner\", \"common_law\", \"fact\", \"conduct\", \"dissent\", \"review\", \"sentence\", \"application\", \"defendant\", \"petition\", \"procedure\", \"federal\", \"constitutional\", \"judge\", \"revenue\", \"taxis\", \"taxpayer\", \"transportation\", \"good\", \"import\", \"prospectus\", \"relationship\", \"negative\", \"tax\", \"confession\", \"wire_fraud_statute\", \"assess\", \"refund\", \"secondary\", \"export\", \"profit\", \"assessment\", \"attempt\", \"assist\", \"wine\", \"collect\", \"directly\", \"regard\", \"enjoy\", \"year_old\", \"basis\", \"solely\", \"valid\", \"importation\", \"mail\", \"access\", \"attorney\", \"subsection\", \"concern\", \"money\", \"security\", \"facility\", \"use\", \"guarantee\", \"inmate\", \"property\", \"pay\", \"statement\", \"foreign\", \"depart\", \"right\", \"contract\", \"transport\", \"majority\", \"prohibit\", \"scheme\", \"return\", \"interest\", \"petitioner\", \"cost\", \"liability\", \"regulation\", \"juror\", \"flower\", \"death_penalty\", \"murder\", \"verdict\", \"pretrial_motion\", \"black_juror\", \"statutory_minimum\", \"peremptory_strike\", \"race_neutral\", \"indictment\", \"white_juror\", \"find\", \"minimum\", \"life_parole\", \"expert\", \"departure\", \"trial\", \"now\", \"consequence_verdict\", \"ineffective_assistance_appellate_counsel\", \"particular\", \"automatically_excludable\", \"substantial_assistance\", \"preparation_time\", \"indicate\", \"instruction\", \"impartial\", \"competency\", \"ineffective_assistance\", \"counsel\", \"jury\", \"delay\", \"sentencing\", \"capital\", \"prosecutor\", \"defendant\", \"testify\", \"sentence\", \"prejudice\", \"strike\", \"ask\", \"evidence\", \"proceeding\", \"hearing\", \"record\", \"practice\", \"impose\", \"person\", \"majority\", \"district\", \"time\", \"right\", \"petitioner\", \"finding\", \"charge\", \"defense\", \"people\", \"judgment\", \"know\", \"move\", \"subparagraph\", \"limitation_period\", \"professional\", \"motion\", \"enter\", \"materiality\", \"notice_appeal\", \"partygoer\", \"certification\", \"register\", \"inform\", \"defer\", \"qualified_immunity\", \"double\", \"approve\", \"satisfy\", \"proof\", \"no\", \"supra\", \"conclusion\", \"pro\", \"panel_majority\", \"overturn\", \"infer\", \"role\", \"counterclaim\", \"appointment\", \"file\", \"limitation\", \"run\", \"territorial\", \"litigation\", \"notice\", \"reliance\", \"equitable_tolling\", \"officer\", \"official\", \"day\", \"prove\", \"order\", \"house\", \"appeal\", \"class\", \"ment\", \"part\", \"requirement\", \"action\", \"time\", \"plaintiff\", \"period\", \"section\", \"reasonable\", \"claim\", \"petitioner\", \"government\", \"violation\", \"patent\", \"debtor\", \"estate\", \"lien\", \"creditor\", \"manufacturer\", \"invention\", \"assign\", \"receive\", \"tariff\", \"successor_interest\", \"gene\", \"base\", \"tenancy_entirety\", \"parte_review\", \"adversary_proceeding\", \"nucleotide\", \"month\", \"estimate\", \"value_exceed\", \"escheat\", \"coal\", \"patent_owner\", \"shareholder\", \"question\", \"foreign_sovereign\", \"bank_cooperative\", \"patent_eligible\", \"cdna\", \"reilly\", \"sovereign_immunity\", \"infringement\", \"exempt\", \"equipment\", \"immunity\", \"propose\", \"bankruptcy\", \"trustee\", \"value\", \"transfer\", \"claim\", \"property\", \"exemption\", \"interest\", \"application\", \"list\", \"method\", \"review\", \"product\", \"federal\", \"debt\", \"petitioner\", \"respondent\", \"chapter\", \"work\", \"warrant\", \"search\", \"serve\", \"seize\", \"reasonable_suspicion\", \"driver\", \"address\", \"automobile\", \"supervised_release\", \"detention\", \"define\", \"motor_vehicle\", \"service_advisor\", \"suspicion\", \"traffic_stop\", \"civil_commitment\", \"seizure\", \"contraband\", \"pretrial_detention\", \"support\", \"transmission\", \"enforcement_officer\", \"suppress\", \"money_laundering\", \"offset\", \"call\", \"useful_article\", \"parolee\", \"coupler\", \"release\", \"vehicle\", \"exclusionary_rule\", \"other\", \"copyright\", \"inference\", \"design\", \"conceal\", \"out\", \"drug\", \"activity\", \"arrest\", \"truck\", \"police\", \"plant\", \"car\", \"protect\", \"drive\", \"speech\", \"officer\", \"protection\", \"evidence\", \"respondent\", \"parole\", \"employee\", \"fund\", \"petitioner\", \"credit\", \"standard\", \"public\", \"liquor\", \"vessel\", \"vote\", \"election\", \"incumbent\", \"purpose\", \"amend\", \"object\", \"racial\", \"voter\", \"schedule\", \"draw\", \"monopoly_system\", \"choose\", \"dredge\", \"direct_shipment\", \"spouse\", \"supervisor\", \"map\", \"voting\", \"elect\", \"preclearance\", \"discriminate_out\", \"import_liquor\", \"wholesaler\", \"watercraft\", \"matter\", \"beer\", \"unexhausted\", \"redistricting\", \"hostile_work_environment\", \"discriminatory\", \"discrimination\", \"increase\", \"candidate\", \"political\", \"district\", \"legislature\", \"amendment\", \"majority\", \"black\", \"age\", \"race\", \"employer\", \"plan\", \"product\", \"respondent\", \"create\", \"market\", \"entrance_facility\", \"interconnection\", \"take\", \"merchant\", \"network\", \"cardholder\", \"side\", \"competition\", \"merchant_fee\", \"punitive_damage\", \"competitive\", \"credit_card_market\", \"lesser_include\", \"way\", \"credit_card\", \"easement\", \"antisteere_provision\", \"operator\", \"network_element\", \"venue\", \"restraining_bar\", \"cable_company\", \"output\", \"sexual_harassment\", \"sided_platform\", \"fmcsa\", \"competitive_lec\", \"incumbent_lec\", \"common_carrier\", \"customer\", \"fee\", \"price\", \"land\", \"service\", \"knowledge\", \"definition\", \"term\", \"agency\", \"information\", \"event\", \"compensation\", \"carrier\", \"compete\", \"charge\", \"regulation\", \"offer\", \"transaction\", \"consumer\", \"disclosure\", \"plaintiff\", \"bar\", \"sale\", \"interpretation\", \"evidence\", \"petitioner\"], \"Freq\": [2678.0, 2145.0, 1629.0, 2754.0, 1241.0, 2344.0, 1612.0, 1353.0, 1021.0, 835.0, 1099.0, 1062.0, 943.0, 678.0, 1814.0, 707.0, 1051.0, 654.0, 934.0, 1845.0, 549.0, 814.0, 1046.0, 750.0, 577.0, 622.0, 665.0, 625.0, 832.0, 436.0, 2677.6656117365605, 2144.1996445032587, 1628.852632062737, 574.4158070076755, 231.3011590268827, 256.8980873012858, 129.96501609314814, 112.6544761812758, 101.48181140313369, 98.33976333060669, 93.46633434625372, 91.44643445944511, 91.27133392352684, 89.10483545507928, 85.99524922062486, 81.09383398778888, 72.1825345220389, 68.6473114294865, 68.18651448691732, 67.29346860121862, 65.3066383485997, 59.30618499604338, 58.14828274328476, 57.22512792720926, 56.32588896743857, 51.377001174243986, 51.13116606293977, 50.90726686604374, 44.81887646618103, 44.673811188382956, 1321.9874970479223, 59.90237773272946, 147.97278103262687, 173.0392598503439, 333.75071998392633, 926.6587054364121, 633.242514539581, 282.98123405130747, 1828.6233545213465, 171.9733696415859, 255.62961680489073, 256.58742981318926, 143.34131015707356, 113.5286711783122, 823.8369890750596, 308.1748067207237, 251.70187253359043, 326.21412180409936, 229.25170735613793, 869.7353206542485, 314.95733251793087, 371.62522191414115, 120.62341079003697, 264.09756123482595, 161.33058336014105, 414.38043717308216, 231.03348930052312, 273.2891329873333, 219.46992873779476, 181.41174345376558, 204.02319561902036, 190.72349307488204, 329.47200916321924, 251.3031683359098, 224.41047761159015, 163.60502154926985, 159.35523518119055, 150.2119012950181, 139.86268797940662, 132.0918310093007, 126.91725070490705, 110.69325571070759, 314.7819847942433, 109.12309306624313, 106.67360490575346, 103.33605946537317, 102.11799597508775, 98.21031203354278, 97.10138680710449, 92.4793497090843, 87.61280565389083, 84.00339841460996, 84.26349780725722, 79.72003779955517, 78.81066060930098, 91.40052886369914, 74.50947630321707, 72.56983882154961, 72.27903331160698, 71.87256706833024, 70.07896262740607, 69.27673841062315, 300.81678467080445, 642.7261285393683, 467.2131069195655, 389.65933716099784, 157.05533777207344, 93.93812526520512, 364.6440108056274, 401.7066765056086, 342.80771411704404, 266.38311778985405, 791.6315506466105, 304.2738604038576, 598.7528251615565, 128.6720014319713, 283.9193106622483, 156.20965677878928, 308.859389241692, 311.7800500565577, 390.3419959472251, 345.1949818716395, 368.73996352299105, 328.5918052001251, 422.7007884202422, 237.6902254871224, 212.6614764605383, 374.1367909358306, 283.7907411492359, 451.5394677985378, 269.8856970810792, 200.8752291537627, 176.3276998472898, 171.67684050379495, 145.84533336868222, 143.85130161731638, 142.54493240070647, 130.38176458685547, 99.15227427647818, 97.38706715584516, 95.71995586148506, 91.15411727613144, 84.65317589957489, 84.03419940315264, 80.73070650607043, 80.07979709088153, 75.95324579178133, 73.46470227509836, 71.179635404304, 70.0127894886218, 70.03974177630428, 69.30055195129825, 66.59235020691732, 64.9600814532896, 64.28382405325647, 63.9925191192597, 58.85344854523064, 55.25782668587566, 54.03981809422478, 52.70818110791253, 182.72574707362998, 52.001573215094076, 210.7393831756069, 702.1134530016838, 522.3453694714958, 334.62921965094245, 971.2399211797297, 329.7552309517905, 424.6032773898331, 421.5191947827375, 264.8890668451088, 225.55513447135118, 147.8674841734311, 604.1928165986958, 293.5503745874556, 175.01756781129563, 122.86891648736284, 136.81183953167545, 481.8743801688479, 560.4218930343524, 332.0827243403708, 141.10383091482666, 171.76199981536314, 323.9022674916003, 297.1768865687324, 293.6093254244754, 201.79332384328436, 323.18429821777283, 176.8599783598763, 166.37832410450144, 210.30075219506003, 167.77520517033076, 153.56757215770807, 274.73890530839145, 250.08558311320692, 182.17070930736057, 179.83579485499652, 147.408765688236, 142.26663098762037, 133.73756396735314, 128.90092347705394, 113.23126180761658, 1012.9733947346368, 88.43888167149595, 86.14068894537843, 81.2068744841367, 79.80363967620171, 74.12812140801796, 73.92658319805665, 73.22088999194703, 72.90505154065279, 66.3290312098541, 65.79569373374798, 57.377489848645354, 57.01054255045751, 56.816563340268665, 56.19189233990833, 55.89096118433261, 54.21788061971198, 50.493295418238084, 49.57766218708906, 47.88085768851356, 46.934441945224926, 95.5421751588969, 165.02937359337238, 288.37341822550064, 553.589537761307, 76.87519888281857, 251.05761254039354, 238.41567267354594, 152.36562588049134, 279.099210292123, 98.0651756988049, 137.59306208997347, 533.350012983784, 197.26775699055005, 168.80048483351547, 174.22315851000704, 110.14404909653881, 598.9090863204734, 254.16615242940077, 107.78690539048847, 428.03839688551085, 122.05386559605145, 124.03577212524361, 121.15516110045557, 166.91675311844128, 206.382448958346, 141.46247983412604, 136.47706927339212, 127.64012445577221, 363.11075186555445, 338.6979967186401, 151.61714320808457, 204.89223801258836, 105.09352221948343, 94.56467979549402, 91.94448231837842, 91.93975549395736, 89.57166945031287, 79.72028906812348, 78.84390826498078, 77.01643951666843, 75.10630433229272, 67.51160107376094, 66.310235194279, 61.01223339219882, 56.2833953015452, 1222.3014299697543, 56.15156353254625, 49.93781898584398, 48.11173331059652, 47.732930264727855, 47.31380083562572, 42.064521889083, 42.063668729069775, 41.73225050828305, 160.49422545344035, 41.53845335658496, 42.125414197852464, 38.71230252236556, 691.4177895362544, 639.4246285916112, 291.9399104011891, 231.59888077764987, 104.92665259950688, 194.35720620415523, 1102.1609842545452, 94.47569679585456, 520.6141374570066, 98.8600702063889, 371.05054510160653, 121.96246695735014, 458.50205362863767, 368.63901678598467, 150.6656207342125, 185.93148269970524, 139.84990458056123, 174.4624579411499, 200.89546420458072, 329.508774489318, 244.67344669847066, 147.88969240946685, 253.0297727896716, 202.28786373919618, 118.30522963808109, 135.91063693692277, 125.28577426796748, 339.36534767543543, 275.9559379336422, 253.40712876381923, 148.92669985424513, 139.85608976749077, 134.69212188013293, 115.41914362686613, 433.0876591443679, 98.71816771972559, 96.07572621264138, 86.63762936314436, 82.25291259754081, 75.32836080142724, 66.81104533566814, 63.81118262537235, 60.64864605134978, 53.17584723082622, 51.910940270107176, 55.91752685746783, 51.20101704783168, 128.98013909854075, 47.496515780961204, 45.154677912394995, 42.0696481223377, 41.10562631971136, 40.895059555703476, 40.59697724600816, 40.22548500300067, 42.36495721727506, 36.64242239057092, 106.63641446942856, 550.5218606197735, 227.59237643513453, 53.09262115444829, 156.00078299499216, 202.6797116026386, 281.28758283085295, 126.38377790079167, 72.48344251390331, 641.7780211026729, 155.12565223281743, 230.82285800546185, 133.26611163857763, 243.88366727696442, 102.5413517125685, 289.91996077963245, 138.0441211279395, 112.62866233500047, 116.10880731764188, 168.314172612443, 267.47160964752396, 167.86255594731938, 246.48637007355447, 155.98372389655233, 145.87455352609066, 136.03454550269709, 277.43216731617497, 216.47786509078202, 152.76325849635703, 136.4844631724926, 834.36162351235, 317.87011946825476, 161.65753910666265, 155.7829351704054, 155.06140139859724, 127.81465314166158, 109.3765073319521, 89.9144953511777, 87.35154114838753, 85.11935354648065, 82.9527554747285, 78.52915227328148, 67.81042727417253, 57.636043498835434, 55.83812103412825, 53.85802391858687, 51.74669390861935, 50.29153815880378, 43.76985303410233, 42.98323381523195, 40.26562153624531, 38.61537094759313, 38.417843785484834, 37.30256239029215, 46.775857123131736, 34.69181572691952, 34.52651073064758, 33.65286376815859, 32.61631721561099, 32.28237195483846, 322.72875616656677, 133.98812451766585, 190.92433918173506, 70.0881144926925, 207.7478334359475, 113.72152740508285, 242.23898004594906, 125.52496091512269, 184.21795899073683, 95.77357548578962, 1135.8748045455768, 528.3762955864655, 187.875370573587, 319.8397825531821, 262.88365905396364, 132.44780319526762, 88.00524393318295, 285.0584406902291, 123.0465654275999, 304.4518190662512, 104.25946687359159, 146.08141069991464, 122.65090424606805, 89.19034817770542, 312.73417166922, 175.169455681091, 150.29768493789277, 135.06167069907394, 89.18772537776663, 88.8909030047828, 86.86781290674053, 72.57306086578753, 65.02036437034127, 63.18839717023432, 121.56743790730339, 61.2196190922911, 60.29403386965312, 60.15967179038711, 58.87524662183186, 55.487569350989894, 50.34170601486808, 47.49017569956425, 47.14833274791364, 47.16088458972801, 42.03510606626049, 41.2241619317361, 84.21062857472829, 40.875989418828674, 39.908998510651415, 39.438647274412254, 39.32960810455175, 39.17792252454305, 39.06165123623841, 38.53655885710312, 275.0656979121363, 198.63991660169225, 139.13207767568016, 47.40313840181018, 76.46980371216978, 84.44672074316989, 99.96302679852877, 86.20957585105701, 93.46159253272401, 163.32872631400573, 193.05016304702465, 231.3643733261381, 83.06850892156314, 164.66359673310816, 81.73063464288121, 118.05314608943387, 96.08851437878617, 80.59338460058717, 138.76138088030467, 301.01299964490175, 116.4268266610675, 230.4726001812825, 279.24438376495164, 110.36224873143908, 185.29039148009974, 126.06129579705569, 203.1950550926178, 97.73570223534932, 122.42066463047412, 88.19211384477592, 346.3277852977067, 220.49152443404074, 197.62179873863582, 168.63014206204483, 132.52643339886498, 128.37405762783902, 111.47476505576442, 106.84036889370554, 113.07444898814249, 89.12184030401139, 74.6049083030422, 72.00791192363523, 71.24626281104851, 69.47282146713859, 65.05924893707112, 61.9627969005522, 61.01094488528482, 73.35172173278555, 59.72273550980386, 59.60388638164048, 57.97303492121397, 53.47901376167571, 52.67930676479535, 49.5848100528764, 46.49029257644842, 46.49281546429511, 42.93589313636106, 53.67475732751488, 41.27921754820888, 39.867632381596806, 78.18219023207651, 181.78884676309647, 259.535598319389, 188.8986838687225, 131.93901928151774, 159.03501471407014, 440.37833099321233, 165.55194202895999, 100.33918799816064, 480.4074039717369, 110.72515935841295, 112.52783713103187, 133.78279693900265, 159.07608691292413, 166.472681888203, 96.94288952979932, 126.81233121796097, 76.608240447885, 295.5010655188083, 156.9081260446914, 136.19552181753758, 127.56276310404076, 123.65113255463818, 115.1882267387517, 103.3584152691643, 82.35798675995579, 70.70826950087898, 68.93429779343116, 58.36263884523513, 58.2611830413791, 54.59090518102878, 52.844751000685335, 48.71513269431804, 47.09674354128661, 44.22023974663579, 43.11619591216877, 42.63186514748424, 41.50523808167896, 41.28061103376881, 40.50562877859277, 38.271032156495885, 37.24749316835791, 36.03211035316069, 34.51015965600422, 34.35724590370542, 32.627517769943786, 32.627517769943786, 31.648470295817756, 57.02535203653768, 488.31224553348494, 192.152733156225, 282.56679009364626, 578.4390498290471, 62.756699283491386, 169.93829927807352, 149.33371438617718, 386.49601909056753, 227.93465450261246, 54.2074895725455, 102.91480181575508, 89.20903251805595, 60.769760610675554, 272.1256648397333, 215.93487993971442, 111.93516013073243, 117.27989265027738, 89.78074847310945, 75.5022852335163, 129.7521726017673, 81.94259718029598, 80.53715433093873, 78.30004386942787, 77.05178141214193, 76.54542528185212], \"Total\": [2678.0, 2145.0, 1629.0, 2754.0, 1241.0, 2344.0, 1612.0, 1353.0, 1021.0, 835.0, 1099.0, 1062.0, 943.0, 678.0, 1814.0, 707.0, 1051.0, 654.0, 934.0, 1845.0, 549.0, 814.0, 1046.0, 750.0, 577.0, 622.0, 665.0, 625.0, 832.0, 436.0, 2678.514482726245, 2145.050115132338, 1629.7014424969316, 575.450039446653, 232.15049155918166, 258.55193027885895, 130.81393830673562, 113.50483526685005, 102.33571393070129, 99.18860883565407, 94.31536599568489, 92.2953241172755, 92.12025873138703, 89.95394678914519, 86.8440811424537, 81.94280075391092, 73.03235729009491, 69.49632322359648, 69.03545415177786, 68.14235350209134, 66.1566675592232, 60.15518033018739, 58.99753558116188, 58.07404832780339, 57.174709799277245, 52.22621456918438, 51.98009653730491, 51.75619865530924, 45.66765533619127, 45.52360168453105, 1353.6088423062636, 61.05147248444888, 152.225608378588, 179.1388799929024, 351.02022975533896, 1051.7452426750176, 717.5707393365565, 312.690820393778, 2344.864460664932, 190.35751713097736, 303.86475628965815, 307.5249550460666, 170.46003336191612, 128.77626386843718, 1845.3186767531524, 543.3473865968768, 418.49065729633196, 617.431963651377, 367.18149574912377, 2754.4735064173638, 692.5052660037379, 927.1067491030553, 143.58443805215308, 626.2946693664427, 251.0633532201741, 1814.442715209993, 600.5429216341196, 1029.2070322388813, 592.5374024989823, 361.4478573063284, 826.8750801015311, 934.0926111450792, 330.3218785970528, 252.15293695594272, 225.26031142936978, 164.45663832023016, 160.20509686167645, 151.062064348866, 140.71249541308913, 132.94166310754835, 127.76721917555501, 111.54658756089117, 317.23871552548104, 109.9831427247126, 107.52340009113112, 104.18594557307773, 102.9693237004414, 99.06017945864932, 97.95118682143655, 93.32959377470696, 88.47101507285107, 84.85349583600627, 85.14117886303599, 80.57812738916051, 79.66042128451258, 92.43030146149351, 75.3592585725983, 73.41966683672192, 73.12898737598071, 72.72283931922514, 70.9289254028565, 70.12668377582884, 305.3305251113726, 665.6573468595766, 487.0012418795418, 406.44421192497936, 161.31929220186188, 95.48407929894559, 388.558470375362, 429.97565304291584, 380.04876582587787, 306.30613726902766, 1046.587508638983, 358.3256061203629, 822.9824972539859, 138.37196183888616, 364.0661067077069, 176.83526094073787, 435.65192544825805, 452.9536370491999, 634.1688619719519, 542.5979891556921, 600.5429216341196, 529.693045426798, 813.3668193631524, 336.05383429270296, 291.7827584512837, 838.9991361721784, 574.1334415681445, 2754.4735064173638, 766.9328740968302, 543.4900121611716, 177.17373757351695, 172.52358718795807, 146.69141791914916, 144.69735625666604, 143.3911382936939, 131.22910987714727, 99.9984161801698, 98.23307223258385, 96.56599732773985, 92.00063843616257, 85.49920326980367, 84.88043377432095, 81.57680547771973, 80.92711006542781, 76.79930750114083, 74.3109102639309, 72.02600728488386, 70.85886663908376, 70.88666012660761, 70.14738521059084, 67.43988392145043, 65.80611835964821, 65.1299751934008, 64.8387065478577, 59.70254384869129, 56.10382158283015, 54.88599507263639, 53.554788800812695, 185.67464959314543, 52.84766063099209, 216.2269420150837, 750.289367141473, 557.7879200193352, 359.1763796918735, 1099.7336043323858, 374.9378485613596, 524.6312210691826, 521.0139961187799, 313.2574993056334, 263.43416930723674, 169.4839366985458, 1029.2070322388813, 443.0160755759707, 234.7284716837751, 150.75180273180058, 180.0842033164265, 1279.7207046378815, 1696.3999687562853, 766.9328740968302, 192.95907900988036, 277.6560542372439, 927.1067491030553, 826.8750801015311, 814.9906657627369, 476.3468603968679, 1612.1978426719115, 345.06581481014484, 343.4573592343753, 2344.864460664932, 617.431963651377, 543.3473865968768, 275.5884295710315, 250.93507034724757, 183.0202061648825, 180.68593667483685, 148.2583634643023, 143.11642275379293, 134.58704543236422, 129.76012762388717, 114.08120635953863, 1021.8119372484194, 89.28866750957502, 86.99022787716268, 82.0564752367177, 80.6533201050013, 74.97764319229606, 74.77605449383987, 74.07052450886695, 73.75453703993658, 67.17940435592332, 66.64601078609834, 58.22763100371224, 57.86008662638134, 57.666196282263506, 57.041788967020715, 56.74254547585319, 55.06814012972894, 51.34305433198203, 50.42784363176766, 48.73103776898946, 47.78453917333911, 97.29299262092614, 171.75873359928758, 308.0684178195442, 625.5162500077653, 81.68943110670497, 315.25776063977264, 305.121945338391, 181.5365488837599, 384.2757056710258, 110.75023394692762, 168.7818946624221, 1062.4826016983222, 284.03993650150693, 233.29748122107648, 263.71748767670084, 135.09967858638998, 1845.3186767531524, 574.1334415681445, 137.6093415903284, 1814.442715209993, 192.07883080902104, 204.70570029874406, 202.42625086086093, 621.8913198935016, 1696.3999687562853, 418.49065729633196, 529.693045426798, 633.6872757718811, 363.97373731266384, 339.5609450023359, 152.48010745230022, 206.51197170045867, 105.95651781266542, 95.42768729840449, 92.80743069401838, 92.80276255977945, 90.43461648515954, 80.58331206953932, 79.70699287813655, 77.87938742217341, 75.96929333508203, 68.37516146791872, 67.17320266552746, 61.87776727460594, 57.14659280684184, 1241.0771610294248, 57.01457557727599, 50.80083232319511, 48.974969798562164, 48.595888133436624, 48.17680925221224, 42.92752316594973, 42.926677393099986, 42.59541497135423, 163.81491180741008, 42.402314274910616, 43.0555841559658, 39.57531670258192, 707.3245399694949, 654.2003284840849, 327.18607044233386, 261.1795179997078, 112.62951627311728, 218.63480558506276, 1612.1978426719115, 108.20431593457315, 814.9906657627369, 114.35630056319137, 592.5374024989823, 149.59441457852623, 832.6693112536055, 692.5052660037379, 204.00945657939872, 274.009676767361, 209.3480479682512, 389.79210782230774, 543.4900121611716, 1814.442715209993, 934.0926111450792, 345.37706538222045, 1845.3186767531524, 1696.3999687562853, 223.21273324496985, 529.6921704143152, 321.19901403570003, 340.20094823937023, 276.79140519518376, 254.24275043307316, 149.7630593406469, 140.6918025660562, 135.52763834037634, 116.2548938826242, 436.2840071311175, 99.55370979276218, 96.91156278741038, 87.47306009270343, 83.08831801494055, 76.16435348785956, 67.6472280562963, 64.64720691269682, 61.484598212879625, 54.01132135007116, 52.74668493164419, 56.820934896608655, 52.0367755088091, 131.1803665446838, 48.332142672399485, 45.990659843776314, 42.90531961747943, 41.94125292337504, 41.730611238196715, 41.43846676936034, 41.06111258234139, 43.26813988734681, 37.478115417069965, 109.93266177430078, 577.6532167616966, 240.02216564965607, 54.59138802139139, 166.13843127818592, 220.10036385824927, 319.79878120834644, 137.83117288629117, 76.41989888031809, 943.5268833209449, 187.39423405285055, 298.82873900712343, 159.85685866354302, 356.86755076004727, 121.36854341087674, 479.9110627997718, 200.3452978878563, 151.89572729012065, 162.16732186632433, 328.5810168780756, 813.3668193631524, 345.37706538222045, 838.9991361721784, 309.4105560475884, 274.60460182672074, 252.3310287846231, 2754.4735064173638, 1696.3999687562853, 420.62188621607584, 419.29172160751926, 835.2017735184635, 318.7102236523378, 162.4978671882309, 156.62354981910872, 155.90151918555452, 128.65594424986307, 110.21662654572111, 90.75492671200222, 88.19185396324406, 85.95951733444107, 83.79455689340038, 79.3692383831681, 68.65061415529975, 58.476243437017125, 56.67821719489687, 54.698201995898344, 52.586780018868026, 51.132504384439834, 44.61028861721509, 43.82409087185062, 41.10572603679613, 39.45567614330734, 39.2579600858475, 38.143117178427495, 47.836309917525156, 35.53239970163071, 35.36662727074044, 34.492946020157476, 33.456403392592314, 33.12245792486812, 331.8621197552593, 150.1150034220703, 226.3584845939761, 77.5673382051644, 267.6531179564088, 138.9612720710603, 348.395656593799, 161.47641830465938, 260.5886199287287, 119.55565542898817, 2754.4735064173638, 1062.4826016983222, 285.1922139509868, 621.8913198935016, 476.3468603968679, 203.2058993245155, 112.42031739886284, 826.8750801015311, 220.74140870660776, 2344.864460664932, 174.01441839789194, 1696.3999687562853, 1279.7207046378815, 132.4947178903539, 313.5768580455974, 176.01170239868154, 151.1399856116045, 135.90457352670026, 90.02987099264413, 89.73300617849554, 87.70991765628071, 73.4153846480767, 65.86246788687805, 64.03049119191337, 123.18951963512042, 62.06198579232395, 61.13621201725685, 61.00177852242741, 59.71759538661312, 56.32966213570379, 51.185766578039576, 48.332522902353986, 47.990495553853705, 48.005660607124696, 42.87731261002045, 42.067453500269124, 85.94326968825735, 41.71812801251205, 40.751524475178805, 40.28106928192334, 40.17184745337727, 40.020011025733105, 39.9037395300429, 39.37866048152017, 281.2854422641427, 204.13204325021545, 144.74680136201656, 48.80726732788042, 80.94724962565316, 92.00272126962835, 110.77824520695461, 94.77126100481229, 103.84432347614221, 204.45066901441757, 251.6168112765697, 311.5455590034237, 94.31733636931591, 217.2645869589989, 94.17344255163225, 167.46293241577945, 127.3898566190735, 96.91915380842904, 237.9265600138264, 943.5268833209449, 184.10589194665997, 832.6693112536055, 1279.7207046378815, 189.36488821124215, 822.9824972539859, 322.5598938617071, 1696.3999687562853, 152.8833426362712, 450.8775147204588, 634.1688619719519, 347.1768526169536, 221.34061482701566, 198.47958804284457, 169.4793361519824, 133.37560309262264, 129.22297525903156, 112.32392271843989, 107.6902740583636, 114.0160985899869, 89.97069507625602, 75.4541776833909, 72.8570714656285, 72.09518389794125, 70.32193118793059, 65.90895626689803, 62.81171609738919, 61.86074967856856, 74.39049643653996, 60.57157904054645, 60.45273149459869, 58.82209962878943, 54.327853396069564, 53.52822529383184, 50.43372853124429, 47.3392111045253, 47.34201881490318, 43.784912330002946, 54.763727296134, 42.12848537955021, 40.7164776136519, 82.08076957050727, 201.7758408234499, 345.9252835464476, 272.20336704407697, 174.1929587726183, 220.23393315216396, 934.0926111450792, 254.25911753108977, 139.66356905495275, 1814.442715209993, 175.42054976019688, 181.41088619433302, 266.9748680989023, 542.5979891556921, 1046.587508638983, 220.74140870660776, 1279.7207046378815, 138.56524633936306, 296.36144113605525, 157.7720861920982, 137.05692107594302, 128.4158557057714, 124.50417178378642, 116.04113327493711, 104.2113150051973, 83.210949836691, 71.57466780668233, 69.78719753622345, 59.2157150312401, 59.11417708193759, 55.44380493733962, 53.698434668536166, 49.56810085301433, 47.949732944836185, 45.073851832795505, 43.9690956752389, 43.485744220892954, 42.35888267884137, 42.13366354947665, 41.35866815445175, 39.12395094774556, 38.10039436368823, 36.885427840213005, 35.363059425833626, 35.21017385934553, 33.48084974343524, 33.48084974343524, 32.50144218137089, 59.32818326371741, 549.5378178308868, 209.16446123410597, 313.3963029212615, 678.3318068671655, 67.96211604619492, 213.72211185840834, 187.6418019907379, 622.4838459609191, 345.16198208511446, 58.76216270614034, 134.08031781279806, 112.4201499160049, 68.45001058319076, 529.6921704143152, 633.6872757718811, 220.27648685617166, 268.7598074304906, 165.20329119736357, 120.04277516397343, 838.9991361721784, 265.2195724575519, 255.68902773597804, 283.0136027143151, 832.6693112536055, 1696.3999687562853], \"Category\": [\"Default\", \"Default\", \"Default\", \"Default\", \"Default\", \"Default\", \"Default\", \"Default\", \"Default\", \"Default\", \"Default\", \"Default\", \"Default\", \"Default\", \"Default\", \"Default\", \"Default\", \"Default\", \"Default\", \"Default\", \"Default\", \"Default\", \"Default\", \"Default\", \"Default\", \"Default\", \"Default\", \"Default\", \"Default\", \"Default\", \"Topic1\", \"Topic1\", \"Topic1\", \"Topic1\", \"Topic1\", \"Topic1\", \"Topic1\", \"Topic1\", \"Topic1\", \"Topic1\", \"Topic1\", \"Topic1\", \"Topic1\", \"Topic1\", \"Topic1\", \"Topic1\", \"Topic1\", \"Topic1\", \"Topic1\", \"Topic1\", \"Topic1\", \"Topic1\", \"Topic1\", \"Topic1\", \"Topic1\", \"Topic1\", \"Topic1\", \"Topic1\", \"Topic1\", \"Topic1\", \"Topic1\", \"Topic1\", \"Topic1\", \"Topic1\", \"Topic1\", \"Topic1\", \"Topic1\", \"Topic1\", \"Topic1\", \"Topic1\", \"Topic1\", \"Topic1\", \"Topic1\", \"Topic1\", \"Topic1\", \"Topic1\", \"Topic1\", \"Topic1\", \"Topic1\", \"Topic1\", \"Topic1\", \"Topic1\", \"Topic1\", \"Topic1\", \"Topic1\", \"Topic1\", \"Topic1\", \"Topic1\", \"Topic1\", \"Topic1\", \"Topic1\", \"Topic1\", \"Topic2\", \"Topic2\", \"Topic2\", \"Topic2\", \"Topic2\", \"Topic2\", \"Topic2\", \"Topic2\", \"Topic2\", \"Topic2\", \"Topic2\", \"Topic2\", \"Topic2\", \"Topic2\", \"Topic2\", \"Topic2\", \"Topic2\", \"Topic2\", \"Topic2\", \"Topic2\", \"Topic2\", \"Topic2\", \"Topic2\", \"Topic2\", \"Topic2\", \"Topic2\", \"Topic2\", \"Topic2\", \"Topic2\", \"Topic2\", \"Topic2\", \"Topic2\", \"Topic2\", \"Topic2\", \"Topic2\", \"Topic2\", \"Topic2\", \"Topic2\", \"Topic2\", \"Topic2\", \"Topic2\", \"Topic2\", \"Topic2\", \"Topic2\", \"Topic2\", \"Topic2\", \"Topic2\", \"Topic2\", \"Topic2\", \"Topic2\", \"Topic2\", \"Topic2\", \"Topic2\", \"Topic2\", \"Topic2\", \"Topic2\", \"Topic2\", \"Topic2\", \"Topic2\", \"Topic2\", \"Topic3\", \"Topic3\", \"Topic3\", \"Topic3\", \"Topic3\", \"Topic3\", \"Topic3\", \"Topic3\", \"Topic3\", \"Topic3\", \"Topic3\", \"Topic3\", \"Topic3\", \"Topic3\", \"Topic3\", \"Topic3\", \"Topic3\", \"Topic3\", \"Topic3\", \"Topic3\", \"Topic3\", \"Topic3\", \"Topic3\", \"Topic3\", \"Topic3\", \"Topic3\", \"Topic3\", \"Topic3\", \"Topic3\", \"Topic3\", \"Topic3\", \"Topic3\", \"Topic3\", \"Topic3\", \"Topic3\", \"Topic3\", \"Topic3\", \"Topic3\", \"Topic3\", \"Topic3\", \"Topic3\", \"Topic3\", \"Topic3\", \"Topic3\", \"Topic3\", \"Topic3\", \"Topic3\", \"Topic3\", \"Topic3\", \"Topic3\", \"Topic3\", \"Topic3\", \"Topic3\", \"Topic3\", \"Topic3\", \"Topic3\", \"Topic3\", \"Topic3\", \"Topic3\", \"Topic3\", \"Topic3\", \"Topic4\", \"Topic4\", \"Topic4\", \"Topic4\", \"Topic4\", \"Topic4\", \"Topic4\", \"Topic4\", \"Topic4\", \"Topic4\", \"Topic4\", \"Topic4\", \"Topic4\", \"Topic4\", \"Topic4\", \"Topic4\", \"Topic4\", \"Topic4\", \"Topic4\", \"Topic4\", \"Topic4\", \"Topic4\", \"Topic4\", \"Topic4\", \"Topic4\", \"Topic4\", \"Topic4\", \"Topic4\", \"Topic4\", \"Topic4\", \"Topic4\", \"Topic4\", \"Topic4\", \"Topic4\", \"Topic4\", \"Topic4\", \"Topic4\", \"Topic4\", \"Topic4\", \"Topic4\", \"Topic4\", \"Topic4\", \"Topic4\", \"Topic4\", \"Topic4\", \"Topic4\", \"Topic4\", \"Topic4\", \"Topic4\", \"Topic4\", \"Topic4\", \"Topic4\", \"Topic4\", \"Topic4\", \"Topic4\", \"Topic4\", \"Topic4\", \"Topic4\", \"Topic5\", \"Topic5\", \"Topic5\", \"Topic5\", \"Topic5\", \"Topic5\", \"Topic5\", \"Topic5\", \"Topic5\", \"Topic5\", \"Topic5\", \"Topic5\", \"Topic5\", \"Topic5\", \"Topic5\", \"Topic5\", \"Topic5\", \"Topic5\", \"Topic5\", \"Topic5\", \"Topic5\", \"Topic5\", \"Topic5\", \"Topic5\", \"Topic5\", \"Topic5\", \"Topic5\", \"Topic5\", \"Topic5\", \"Topic5\", \"Topic5\", \"Topic5\", \"Topic5\", \"Topic5\", \"Topic5\", \"Topic5\", \"Topic5\", \"Topic5\", \"Topic5\", \"Topic5\", \"Topic5\", \"Topic5\", \"Topic5\", \"Topic5\", \"Topic5\", \"Topic5\", \"Topic5\", \"Topic5\", \"Topic5\", \"Topic5\", \"Topic5\", \"Topic5\", \"Topic5\", \"Topic5\", \"Topic5\", \"Topic5\", \"Topic5\", \"Topic6\", \"Topic6\", \"Topic6\", \"Topic6\", \"Topic6\", \"Topic6\", \"Topic6\", \"Topic6\", \"Topic6\", \"Topic6\", \"Topic6\", \"Topic6\", \"Topic6\", \"Topic6\", \"Topic6\", \"Topic6\", \"Topic6\", \"Topic6\", \"Topic6\", \"Topic6\", \"Topic6\", \"Topic6\", \"Topic6\", \"Topic6\", \"Topic6\", \"Topic6\", \"Topic6\", \"Topic6\", \"Topic6\", \"Topic6\", \"Topic6\", \"Topic6\", \"Topic6\", \"Topic6\", \"Topic6\", \"Topic6\", \"Topic6\", \"Topic6\", \"Topic6\", \"Topic6\", \"Topic6\", \"Topic6\", \"Topic6\", \"Topic6\", \"Topic6\", \"Topic6\", \"Topic6\", \"Topic6\", \"Topic6\", \"Topic6\", \"Topic6\", \"Topic6\", \"Topic6\", \"Topic6\", \"Topic6\", \"Topic6\", \"Topic6\", \"Topic6\", \"Topic6\", \"Topic6\", \"Topic7\", \"Topic7\", \"Topic7\", \"Topic7\", \"Topic7\", \"Topic7\", \"Topic7\", \"Topic7\", \"Topic7\", \"Topic7\", \"Topic7\", \"Topic7\", \"Topic7\", \"Topic7\", \"Topic7\", \"Topic7\", \"Topic7\", \"Topic7\", \"Topic7\", \"Topic7\", \"Topic7\", \"Topic7\", \"Topic7\", \"Topic7\", \"Topic7\", \"Topic7\", \"Topic7\", \"Topic7\", \"Topic7\", \"Topic7\", \"Topic7\", \"Topic7\", \"Topic7\", \"Topic7\", \"Topic7\", \"Topic7\", \"Topic7\", \"Topic7\", \"Topic7\", \"Topic7\", \"Topic7\", \"Topic7\", \"Topic7\", \"Topic7\", \"Topic7\", \"Topic7\", \"Topic7\", \"Topic7\", \"Topic7\", \"Topic7\", \"Topic7\", \"Topic7\", \"Topic7\", \"Topic7\", \"Topic8\", \"Topic8\", \"Topic8\", \"Topic8\", \"Topic8\", \"Topic8\", \"Topic8\", \"Topic8\", \"Topic8\", \"Topic8\", \"Topic8\", \"Topic8\", \"Topic8\", \"Topic8\", \"Topic8\", \"Topic8\", \"Topic8\", \"Topic8\", \"Topic8\", \"Topic8\", \"Topic8\", \"Topic8\", \"Topic8\", \"Topic8\", \"Topic8\", \"Topic8\", \"Topic8\", \"Topic8\", \"Topic8\", \"Topic8\", \"Topic8\", \"Topic8\", \"Topic8\", \"Topic8\", \"Topic8\", \"Topic8\", \"Topic8\", \"Topic8\", \"Topic8\", \"Topic8\", \"Topic8\", \"Topic8\", \"Topic8\", \"Topic8\", \"Topic8\", \"Topic8\", \"Topic8\", \"Topic8\", \"Topic8\", \"Topic8\", \"Topic8\", \"Topic8\", \"Topic8\", \"Topic8\", \"Topic8\", \"Topic8\", \"Topic8\", \"Topic8\", \"Topic8\", \"Topic8\", \"Topic9\", \"Topic9\", \"Topic9\", \"Topic9\", \"Topic9\", \"Topic9\", \"Topic9\", \"Topic9\", \"Topic9\", \"Topic9\", \"Topic9\", \"Topic9\", \"Topic9\", \"Topic9\", \"Topic9\", \"Topic9\", \"Topic9\", \"Topic9\", \"Topic9\", \"Topic9\", \"Topic9\", \"Topic9\", \"Topic9\", \"Topic9\", \"Topic9\", \"Topic9\", \"Topic9\", \"Topic9\", \"Topic9\", \"Topic9\", \"Topic9\", \"Topic9\", \"Topic9\", \"Topic9\", \"Topic9\", \"Topic9\", \"Topic9\", \"Topic9\", \"Topic9\", \"Topic9\", \"Topic9\", \"Topic9\", \"Topic9\", \"Topic9\", \"Topic9\", \"Topic9\", \"Topic9\", \"Topic9\", \"Topic10\", \"Topic10\", \"Topic10\", \"Topic10\", \"Topic10\", \"Topic10\", \"Topic10\", \"Topic10\", \"Topic10\", \"Topic10\", \"Topic10\", \"Topic10\", \"Topic10\", \"Topic10\", \"Topic10\", \"Topic10\", \"Topic10\", \"Topic10\", \"Topic10\", \"Topic10\", \"Topic10\", \"Topic10\", \"Topic10\", \"Topic10\", \"Topic10\", \"Topic10\", \"Topic10\", \"Topic10\", \"Topic10\", \"Topic10\", \"Topic10\", \"Topic10\", \"Topic10\", \"Topic10\", \"Topic10\", \"Topic10\", \"Topic10\", \"Topic10\", \"Topic10\", \"Topic10\", \"Topic10\", \"Topic10\", \"Topic10\", \"Topic10\", \"Topic10\", \"Topic10\", \"Topic10\", \"Topic10\", \"Topic10\", \"Topic10\", \"Topic10\", \"Topic10\", \"Topic10\", \"Topic10\", \"Topic10\", \"Topic10\"], \"logprob\": [30.0, 29.0, 28.0, 27.0, 26.0, 25.0, 24.0, 23.0, 22.0, 21.0, 20.0, 19.0, 18.0, 17.0, 16.0, 15.0, 14.0, 13.0, 12.0, 11.0, 10.0, 9.0, 8.0, 7.0, 6.0, 5.0, 4.0, 3.0, 2.0, 1.0, -2.6927, -2.9149, -3.1898, -4.232, -5.1417, -5.0367, -5.7181, -5.8611, -5.9655, -5.997, -6.0478, -6.0696, -6.0715, -6.0956, -6.1311, -6.1898, -6.3062, -6.3564, -6.3631, -6.3763, -6.4063, -6.5027, -6.5224, -6.5384, -6.5542, -6.6462, -6.651, -6.6554, -6.7828, -6.786, -3.3985, -6.4927, -5.5884, -5.4319, -4.775, -3.7538, -4.1345, -4.94, -3.0741, -5.438, -5.0417, -5.0379, -5.6202, -5.8533, -3.8714, -4.8547, -5.0571, -4.7978, -5.1506, -3.8172, -4.8329, -4.6675, -5.7927, -5.0091, -5.5019, -4.5586, -5.1428, -4.9749, -5.1942, -5.3846, -5.2672, -5.3346, -4.7407, -5.0115, -5.1247, -5.4407, -5.467, -5.5261, -5.5975, -5.6547, -5.6946, -5.8314, -4.7863, -5.8457, -5.8684, -5.9002, -5.9121, -5.9511, -5.9624, -6.0112, -6.0653, -6.1073, -6.1042, -6.1597, -6.1711, -6.0229, -6.2273, -6.2536, -6.2577, -6.2633, -6.2886, -6.3001, -4.8317, -4.0725, -4.3914, -4.5729, -5.4816, -5.9955, -4.6393, -4.5425, -4.701, -4.9532, -3.8641, -4.8203, -4.1433, -5.6809, -4.8895, -5.487, -4.8053, -4.7959, -4.5712, -4.6941, -4.6281, -4.7434, -4.4915, -5.0672, -5.1785, -4.6136, -4.8899, -4.4255, -4.9402, -5.2355, -5.1797, -5.2064, -5.3695, -5.3832, -5.3924, -5.4815, -5.7554, -5.7733, -5.7906, -5.8395, -5.9135, -5.9208, -5.9609, -5.969, -6.0219, -6.0552, -6.0868, -6.1033, -6.103, -6.1136, -6.1534, -6.1782, -6.1887, -6.1933, -6.277, -6.34, -6.3623, -6.3872, -5.144, -6.4007, -5.0014, -3.7979, -4.0937, -4.539, -3.4734, -4.5537, -4.3009, -4.3082, -4.7727, -4.9335, -5.3557, -3.9481, -4.67, -5.1871, -5.5409, -5.4334, -4.1743, -4.0233, -4.5466, -5.4025, -5.2059, -4.5716, -4.6577, -4.6698, -5.0448, -4.5738, -5.1767, -5.2378, -5.0035, -5.2294, -5.3179, -4.6341, -4.7281, -5.045, -5.0579, -5.2567, -5.2922, -5.354, -5.3909, -5.5205, -3.3293, -5.7676, -5.7939, -5.8529, -5.8703, -5.9441, -5.9468, -5.9564, -5.9608, -6.0553, -6.0634, -6.2003, -6.2067, -6.2101, -6.2211, -6.2265, -6.2569, -6.3281, -6.3464, -6.3812, -6.4012, -5.6903, -5.1438, -4.5857, -3.9335, -5.9077, -4.7242, -4.7759, -5.2236, -4.6183, -5.6643, -5.3256, -3.9707, -4.9654, -5.1212, -5.0896, -5.5481, -3.8548, -4.7119, -5.5698, -4.1907, -5.4455, -5.4293, -5.4528, -5.1324, -4.9202, -5.2979, -5.3338, -5.4007, -4.138, -4.2076, -5.0114, -4.7103, -5.3779, -5.4835, -5.5116, -5.5116, -5.5377, -5.6542, -5.6653, -5.6887, -5.7138, -5.8204, -5.8384, -5.9217, -6.0023, -2.9243, -6.0047, -6.122, -6.1592, -6.1671, -6.1759, -6.2935, -6.2936, -6.3015, -4.9545, -6.3061, -6.2921, -6.3766, -3.494, -3.5722, -4.3562, -4.5877, -5.3795, -4.763, -3.0277, -5.4844, -3.7777, -5.439, -4.1164, -5.229, -3.9048, -4.1229, -5.0177, -4.8074, -5.0922, -4.871, -4.73, -4.2351, -4.5328, -5.0363, -4.4992, -4.7231, -5.2595, -5.1207, -5.2021, -4.1353, -4.3421, -4.4274, -4.9589, -5.0217, -5.0594, -5.2138, -3.8914, -5.3701, -5.3972, -5.5006, -5.5526, -5.6405, -5.7605, -5.8064, -5.8573, -5.9887, -6.0128, -5.9385, -6.0266, -5.1027, -6.1017, -6.1523, -6.223, -6.2462, -6.2513, -6.2587, -6.2678, -6.216, -6.3611, -5.2929, -3.6515, -4.5348, -5.9903, -4.9125, -4.6507, -4.323, -5.123, -5.679, -3.4981, -4.9181, -4.5207, -5.07, -4.4657, -5.3321, -4.2927, -5.0348, -5.2383, -5.2078, -4.8365, -4.3733, -4.8392, -4.455, -4.9126, -4.9796, -5.0494, -4.3368, -4.5849, -4.9335, -5.0461, -3.2265, -4.1916, -4.8677, -4.9047, -4.9094, -5.1026, -5.2584, -5.4544, -5.4833, -5.5092, -5.5349, -5.5897, -5.7365, -5.8991, -5.9308, -5.9669, -6.0069, -6.0354, -6.1743, -6.1924, -6.2577, -6.2996, -6.3047, -6.3341, -6.1078, -6.4067, -6.4115, -6.4371, -6.4684, -6.4787, -4.1764, -5.0555, -4.7013, -5.7035, -4.6169, -5.2195, -4.4633, -5.1207, -4.7371, -5.3912, -2.9181, -3.6834, -4.7174, -4.1854, -4.3815, -5.067, -5.4758, -4.3005, -5.1406, -4.2347, -5.3063, -4.969, -5.1439, -5.4624, -4.1598, -4.7394, -4.8925, -4.9994, -5.4144, -5.4177, -5.4408, -5.6206, -5.7305, -5.759, -5.1047, -5.7907, -5.8059, -5.8082, -5.8297, -5.889, -5.9863, -6.0446, -6.0519, -6.0516, -6.1666, -6.1861, -5.4718, -6.1946, -6.2186, -6.2304, -6.2332, -6.237, -6.24, -6.2535, -4.2881, -4.6137, -4.9697, -6.0465, -5.5683, -5.469, -5.3004, -5.4484, -5.3676, -4.8094, -4.6422, -4.4612, -5.4855, -4.8012, -5.5017, -5.134, -5.3399, -5.5157, -4.9724, -4.198, -5.1479, -4.465, -4.2731, -5.2014, -4.6832, -5.0684, -4.591, -5.3229, -5.0977, -5.4256, -3.7593, -4.2108, -4.3203, -4.479, -4.7199, -4.7517, -4.8929, -4.9353, -4.8786, -5.1167, -5.2945, -5.3299, -5.3405, -5.3657, -5.4314, -5.4802, -5.4956, -5.3114, -5.517, -5.519, -5.5467, -5.6274, -5.6425, -5.703, -5.7674, -5.7674, -5.847, -5.6237, -5.8863, -5.9211, -5.2476, -4.4038, -4.0478, -4.3655, -4.7243, -4.5376, -3.5191, -4.4974, -4.9981, -3.4321, -4.8996, -4.8835, -4.7105, -4.5373, -4.4919, -5.0326, -4.764, -5.268, -3.913, -4.5461, -4.6876, -4.7531, -4.7843, -4.8552, -4.9635, -5.1906, -5.3432, -5.3686, -5.535, -5.5368, -5.6019, -5.6344, -5.7157, -5.7495, -5.8125, -5.8378, -5.8491, -5.8759, -5.8813, -5.9003, -5.957, -5.9841, -6.0173, -6.0605, -6.0649, -6.1166, -6.1166, -6.147, -5.5582, -3.4108, -4.3434, -3.9578, -3.2414, -5.4625, -4.4663, -4.5955, -3.6446, -4.1727, -5.6089, -4.9678, -5.1107, -5.4946, -3.9955, -4.2267, -4.8838, -4.8372, -5.1044, -5.2776, -4.7361, -5.1957, -5.213, -5.2412, -5.2572, -5.2638], \"loglift\": [30.0, 29.0, 28.0, 27.0, 26.0, 25.0, 24.0, 23.0, 22.0, 21.0, 20.0, 19.0, 18.0, 17.0, 16.0, 15.0, 14.0, 13.0, 12.0, 11.0, 10.0, 9.0, 8.0, 7.0, 6.0, 5.0, 4.0, 3.0, 2.0, 1.0, 1.8497, 1.8497, 1.8495, 1.8483, 1.8464, 1.8436, 1.8435, 1.8425, 1.8417, 1.8415, 1.841, 1.8408, 1.8408, 1.8406, 1.8402, 1.8396, 1.8384, 1.8378, 1.8377, 1.8375, 1.8371, 1.8358, 1.8356, 1.8353, 1.8351, 1.8337, 1.8336, 1.8335, 1.8313, 1.8312, 1.8264, 1.8311, 1.8217, 1.8154, 1.7996, 1.7234, 1.725, 1.7502, 1.6014, 1.7485, 1.6772, 1.669, 1.6768, 1.724, 1.0436, 1.283, 1.3416, 1.212, 1.379, 0.6973, 1.0622, 0.9359, 1.6758, 0.9866, 1.4078, 0.3733, 0.8948, 0.524, 0.8569, 1.1607, 0.4506, 0.2613, 1.8947, 1.8939, 1.8935, 1.8921, 1.8919, 1.8916, 1.8912, 1.8908, 1.8906, 1.8896, 1.8895, 1.8894, 1.8893, 1.8891, 1.889, 1.8886, 1.8885, 1.8881, 1.8875, 1.8872, 1.8869, 1.8865, 1.8865, 1.8861, 1.8859, 1.8856, 1.8856, 1.8855, 1.8852, 1.8851, 1.8824, 1.8622, 1.8558, 1.8551, 1.8705, 1.8809, 1.8337, 1.8292, 1.7941, 1.7576, 1.6181, 1.7337, 1.5792, 1.8246, 1.6486, 1.7732, 1.5533, 1.5238, 1.412, 1.445, 1.4095, 1.4198, 1.2427, 1.551, 1.5809, 1.0897, 1.1926, 0.0889, 0.8529, 0.9019, 2.0786, 2.0785, 2.0776, 2.0776, 2.0775, 2.0769, 2.0749, 2.0748, 2.0746, 2.0742, 2.0735, 2.0734, 2.073, 2.0729, 2.0723, 2.072, 2.0716, 2.0714, 2.0714, 2.0713, 2.0708, 2.0705, 2.0703, 2.0703, 2.0691, 2.0682, 2.0679, 2.0675, 2.0674, 2.0673, 2.0577, 2.0171, 2.0178, 2.0126, 1.9592, 1.955, 1.8719, 1.8715, 1.9157, 1.9282, 1.947, 1.5508, 1.6719, 1.7899, 1.8789, 1.8086, 1.1067, 0.9759, 1.2464, 1.7704, 1.6032, 1.0318, 1.0601, 1.0625, 1.2245, 0.4763, 1.415, 1.3586, -0.328, 0.7805, 0.8198, 2.1824, 2.1821, 2.1809, 2.1808, 2.1798, 2.1796, 2.1792, 2.1789, 2.178, 2.1768, 2.176, 2.1757, 2.1751, 2.1749, 2.1741, 2.1741, 2.174, 2.1739, 2.1728, 2.1727, 2.1708, 2.1707, 2.1707, 2.1705, 2.1704, 2.17, 2.1688, 2.1685, 2.1679, 2.1676, 2.1674, 2.1456, 2.1195, 2.0634, 2.1248, 1.9578, 1.9388, 2.0104, 1.8657, 2.0639, 1.9812, 1.4963, 1.821, 1.8619, 1.771, 1.9813, 1.0602, 1.3707, 1.9413, 0.7412, 1.7321, 1.6845, 1.6722, 0.8703, 0.079, 1.1009, 0.8294, 0.5832, 2.4003, 2.4002, 2.397, 2.3948, 2.3945, 2.3936, 2.3934, 2.3934, 2.3931, 2.3919, 2.3918, 2.3916, 2.3913, 2.39, 2.3898, 2.3886, 2.3875, 2.3875, 2.3874, 2.3856, 2.3849, 2.3848, 2.3846, 2.3824, 2.3824, 2.3822, 2.3822, 2.3821, 2.3809, 2.3807, 2.38, 2.3799, 2.2887, 2.2825, 2.3319, 2.285, 2.0224, 2.267, 1.9545, 2.2571, 1.9346, 2.1985, 1.806, 1.7722, 2.0996, 2.0149, 1.9993, 1.5988, 1.4075, 0.6968, 1.063, 1.5545, 0.4158, 0.2761, 1.7678, 1.0424, 1.4612, 2.4706, 2.4701, 2.4698, 2.4675, 2.4671, 2.4669, 2.4659, 2.4657, 2.4647, 2.4644, 2.4635, 2.463, 2.4621, 2.4607, 2.4601, 2.4594, 2.4575, 2.4571, 2.4571, 2.4569, 2.4562, 2.4557, 2.4547, 2.4534, 2.453, 2.4529, 2.4526, 2.4525, 2.452, 2.4505, 2.4426, 2.425, 2.4199, 2.4453, 2.4101, 2.3906, 2.3448, 2.3864, 2.4202, 2.0877, 2.2841, 2.2149, 2.2912, 2.0924, 2.3045, 1.9691, 2.1006, 2.174, 2.139, 1.8041, 1.3609, 1.7516, 1.2482, 1.7882, 1.8405, 1.8553, 0.1777, 0.4143, 1.4602, 1.3507, 2.4812, 2.4796, 2.477, 2.4768, 2.4768, 2.4757, 2.4746, 2.4729, 2.4727, 2.4724, 2.4721, 2.4716, 2.4699, 2.4678, 2.4673, 2.4667, 2.4661, 2.4656, 2.4632, 2.4629, 2.4616, 2.4607, 2.4606, 2.4599, 2.4598, 2.4583, 2.4582, 2.4576, 2.4568, 2.4565, 2.4543, 2.3686, 2.312, 2.3808, 2.2289, 2.2818, 2.1188, 2.2304, 2.1354, 2.2604, 1.5964, 1.7837, 2.0648, 1.8173, 1.8878, 2.0542, 2.2374, 1.4173, 1.8978, 0.4408, 1.97, 0.0301, 0.1372, 2.0865, 2.5276, 2.5255, 2.5247, 2.5241, 2.5209, 2.5209, 2.5206, 2.5187, 2.5174, 2.517, 2.517, 2.5166, 2.5164, 2.5164, 2.5161, 2.5152, 2.5137, 2.5127, 2.5126, 2.5125, 2.5104, 2.51, 2.5099, 2.5099, 2.5094, 2.5092, 2.5091, 2.509, 2.509, 2.5087, 2.5079, 2.503, 2.4907, 2.5011, 2.4734, 2.4446, 2.4276, 2.4356, 2.4249, 2.3057, 2.2653, 2.2327, 2.4033, 2.2531, 2.3886, 2.1807, 2.2483, 2.3458, 1.9911, 1.3878, 2.072, 1.2458, 1.008, 1.9904, 1.0393, 1.5908, 0.4082, 2.0829, 1.2266, 0.5575, 2.8263, 2.8249, 2.8244, 2.8237, 2.8224, 2.8222, 2.8212, 2.8208, 2.8205, 2.8193, 2.8174, 2.817, 2.8169, 2.8166, 2.8158, 2.8151, 2.8149, 2.8147, 2.8146, 2.8146, 2.8142, 2.813, 2.8128, 2.8118, 2.8107, 2.8107, 2.8092, 2.8087, 2.8084, 2.8077, 2.7801, 2.7244, 2.5414, 2.4634, 2.5509, 2.5032, 2.0768, 2.3997, 2.4981, 1.4999, 2.3686, 2.3512, 2.1378, 1.6018, 0.9903, 2.0059, 0.5171, 2.2361, 2.8308, 2.8282, 2.8274, 2.8271, 2.8268, 2.8263, 2.8255, 2.8234, 2.8215, 2.8214, 2.8192, 2.8192, 2.8182, 2.8177, 2.8164, 2.8158, 2.8146, 2.8141, 2.8139, 2.8134, 2.8133, 2.8129, 2.8117, 2.8111, 2.8103, 2.8093, 2.8092, 2.8079, 2.8079, 2.8071, 2.7941, 2.7156, 2.7489, 2.7302, 2.6744, 2.754, 2.6045, 2.6054, 2.3571, 2.4188, 2.753, 2.5692, 2.6025, 2.7147, 2.1677, 1.7571, 2.1568, 2.0045, 2.2239, 2.37, 0.9671, 1.6592, 1.6785, 1.5488, 0.4536, -0.2647]}, \"token.table\": {\"Topic\": [1, 4, 7, 1, 2, 1, 2, 6, 10, 2, 8, 1, 8, 1, 1, 6, 2, 1, 7, 10, 7, 2, 5, 9, 1, 2, 4, 7, 10, 2, 10, 2, 3, 9, 7, 9, 3, 1, 3, 8, 10, 3, 5, 6, 7, 2, 3, 5, 7, 2, 3, 7, 8, 5, 6, 6, 1, 1, 1, 2, 2, 2, 1, 5, 6, 8, 4, 5, 4, 4, 7, 4, 4, 1, 4, 1, 2, 6, 10, 3, 5, 8, 2, 1, 2, 1, 7, 1, 7, 1, 3, 4, 6, 9, 10, 7, 4, 9, 2, 2, 1, 2, 2, 5, 9, 5, 2, 10, 8, 8, 9, 3, 5, 3, 4, 8, 10, 4, 10, 2, 3, 5, 10, 1, 2, 7, 6, 2, 7, 1, 3, 5, 10, 1, 2, 5, 9, 8, 1, 2, 3, 6, 7, 1, 4, 6, 8, 1, 2, 3, 4, 7, 4, 3, 5, 10, 1, 2, 3, 4, 6, 7, 2, 4, 7, 10, 2, 10, 1, 5, 10, 10, 10, 3, 8, 4, 5, 6, 1, 3, 4, 2, 3, 4, 8, 4, 1, 6, 5, 1, 3, 4, 5, 4, 9, 10, 1, 8, 1, 2, 4, 3, 5, 3, 5, 8, 1, 8, 1, 4, 8, 5, 6, 6, 3, 8, 1, 2, 9, 4, 7, 8, 10, 10, 7, 3, 5, 1, 3, 5, 8, 3, 4, 10, 2, 3, 5, 6, 5, 4, 7, 7, 1, 9, 1, 3, 4, 5, 6, 1, 2, 3, 4, 5, 10, 6, 8, 3, 10, 5, 6, 8, 1, 4, 6, 5, 7, 8, 4, 8, 3, 10, 9, 4, 9, 10, 9, 2, 4, 5, 9, 4, 9, 1, 2, 1, 3, 4, 5, 7, 9, 1, 3, 5, 6, 7, 9, 6, 9, 9, 4, 8, 10, 8, 2, 3, 8, 10, 9, 9, 3, 8, 2, 8, 9, 10, 2, 8, 9, 3, 8, 4, 6, 1, 2, 10, 2, 7, 1, 6, 1, 3, 9, 7, 7, 7, 8, 10, 1, 5, 8, 9, 10, 1, 3, 8, 4, 7, 2, 4, 7, 8, 1, 6, 5, 4, 2, 4, 6, 3, 7, 1, 2, 3, 7, 1, 10, 2, 4, 3, 2, 6, 7, 5, 5, 7, 9, 3, 2, 5, 1, 10, 3, 1, 3, 4, 7, 1, 2, 4, 8, 7, 4, 1, 1, 2, 4, 6, 8, 9, 2, 4, 5, 3, 5, 3, 1, 1, 4, 5, 1, 3, 5, 2, 9, 4, 6, 7, 6, 7, 5, 4, 9, 4, 1, 4, 5, 6, 2, 4, 9, 9, 10, 5, 5, 5, 5, 6, 8, 9, 6, 3, 5, 6, 8, 10, 6, 7, 2, 2, 3, 8, 3, 4, 8, 3, 5, 10, 10, 4, 5, 7, 8, 9, 1, 2, 3, 4, 9, 10, 7, 1, 3, 5, 6, 1, 1, 4, 7, 9, 10, 5, 3, 5, 3, 6, 6, 10, 2, 1, 7, 10, 1, 1, 5, 8, 9, 10, 2, 4, 6, 9, 10, 7, 5, 3, 6, 8, 6, 9, 6, 7, 4, 6, 7, 1, 4, 1, 2, 3, 4, 5, 7, 8, 9, 7, 9, 2, 10, 6, 9, 3, 1, 1, 2, 4, 6, 3, 10, 10, 5, 7, 3, 5, 3, 4, 8, 8, 9, 7, 4, 6, 8, 6, 1, 5, 3, 3, 4, 10, 10, 6, 2, 3, 6, 6, 5, 7, 9, 3, 5, 4, 10, 6, 8, 2, 3, 6, 8, 10, 1, 4, 6, 7, 1, 7, 8, 6, 8, 10, 6, 1, 6, 2, 3, 8, 8, 4, 6, 7, 5, 1, 2, 6, 7, 7, 7, 2, 4, 5, 6, 7, 8, 6, 5, 4, 5, 6, 1, 2, 3, 4, 5, 8, 1, 2, 8, 10, 1, 3, 6, 7, 9, 2, 3, 4, 5, 6, 7, 8, 10, 3, 1, 2, 4, 6, 9, 10, 2, 7, 9, 2, 7, 8, 3, 3, 7, 8, 1, 6, 8, 1, 4, 8, 9, 3, 1, 6, 2, 5, 7, 8, 1, 3, 9, 1, 5, 6, 5, 3, 8, 5, 1, 4, 10, 3, 1, 3, 4, 1, 2, 6, 1, 2, 3, 5, 6, 1, 3, 5, 7, 7, 9, 6, 4, 2, 6, 8, 2, 4, 5, 8, 6, 10, 4, 7, 2, 7, 1, 3, 5, 4, 3, 4, 8, 3, 4, 7, 8, 5, 6, 8, 2, 1, 2, 4, 1, 2, 4, 8, 10, 3, 3, 5, 10, 9, 1, 6, 6, 7, 1, 5, 7, 9, 5, 9, 4, 6, 8, 3, 8, 7, 1, 5, 7, 10, 2, 2, 9, 4, 4, 6, 2, 4, 7, 8, 9, 10, 7, 4, 2, 8, 1, 6, 1, 2, 3, 2, 5, 2, 3, 2, 4, 6, 7, 9, 10, 2, 2, 3, 4, 6, 7, 8, 9, 10, 10, 3, 2, 3, 2, 3, 4, 4, 1, 3, 6, 7, 1, 2, 4, 5, 7, 3, 6, 1, 3, 4, 6, 4, 7, 10, 1, 6, 1, 9, 2, 4, 5, 7, 1, 2, 9, 2, 8, 4, 1, 2, 4, 6, 2, 4, 7, 8, 8, 3, 5, 3, 5, 1, 8, 2, 4, 6, 10, 8, 10, 7, 10, 10, 2, 4, 2, 7, 1, 2, 4, 6, 8, 2, 9, 1, 2, 4, 5, 7, 8, 9, 1, 3, 4, 9, 1, 2, 3, 8, 9, 10, 5, 1, 2, 5, 2, 6, 2, 4, 5, 1, 7, 1, 2, 6, 7, 10, 8, 9, 8, 8, 6, 8, 10, 7, 4, 7, 4, 4, 7, 2, 10, 1, 6, 5, 9, 5, 6, 8, 1, 5, 8, 2, 7, 8, 8, 2, 4, 7, 10, 2, 7, 8, 4, 10, 4, 3, 5, 1, 4, 8, 10, 2, 7, 9, 3, 4, 10, 8, 4, 4, 7, 10, 7, 3, 8, 10, 5, 9, 1, 2, 3, 5, 6, 8, 9, 9, 9, 3, 4, 8, 2, 4, 9, 10, 5, 9, 4, 4, 3, 8, 3, 1, 4], \"Freq\": [0.9827772788819022, 0.9606498402866914, 0.0349327214649706, 0.059193150461450864, 0.9393695616708506, 0.10819226688998941, 0.5200605556189264, 0.3282651734048542, 0.0430310152403367, 0.23050924024407943, 0.7670393683984023, 0.9807966608387392, 0.9943419945278789, 0.9937778931108466, 0.9722411463905677, 0.026276787740285613, 0.9845616982199383, 0.9515121115178973, 0.03418606388687056, 0.014244193286196067, 0.9872353757450619, 0.09370992202633897, 0.28664211443350746, 0.6228953640574296, 0.19598902170974478, 0.1317303260672055, 0.00803233695531741, 0.04337461955871401, 0.620096412950504, 0.8483903879810512, 0.14791016632564377, 0.9839335939593199, 0.9933752169503682, 0.9882133504030256, 0.27924247005784925, 0.7160063334816646, 0.9826504587166603, 0.6412724036980755, 0.29474632219663094, 0.05974587612093871, 0.9779596177643326, 0.08751621551496348, 0.21670681937038574, 0.6042786309366526, 0.09168365434900935, 0.8684122439452563, 0.016323538420023615, 0.04897061526007084, 0.062029445996089734, 0.010496552860313292, 0.42406073555665696, 0.5521186804524791, 0.01469517400443861, 0.01819295528481004, 0.9733231077373371, 0.9855522458737712, 0.9928582808330793, 0.9853892156890145, 0.03936579616725665, 0.9595412815768807, 0.9972233512438641, 0.9950999167895406, 0.9859654415901982, 0.006419606835024797, 0.25036466656596706, 0.7414645894453641, 0.1804880220700149, 0.8155384700941414, 0.9871250229348755, 0.9897696186537241, 0.9916816999434326, 0.990306834895614, 0.9824439593171336, 0.061674611550508046, 0.9348572698182273, 0.50076379300985, 0.12726593634504474, 0.2766650790109668, 0.09129947607361905, 0.9874918620086772, 0.9755731176373371, 0.9869050171584919, 0.9869034332949432, 0.039014274227866526, 0.9589297928638773, 0.9858643849329108, 0.9896335246238265, 0.30138148399025955, 0.6946125631013601, 0.31294824597941034, 0.24507995167062255, 0.07917967669358575, 0.007540921589865309, 0.04524552953919186, 0.3091777851844777, 0.9905228210511279, 0.9738415575493834, 0.9860541395949155, 0.9942839997128397, 0.9929167193674525, 0.03305003708558331, 0.9659624475468214, 0.992825256581499, 0.3648375295111615, 0.6327650902459206, 0.9912999348437903, 0.9899415359662282, 0.9712720489490766, 0.9708291371280026, 0.24111192723251482, 0.7577803427307609, 0.062150670904291, 0.9322600635643651, 0.15525823909166248, 0.13734382688877833, 0.7046335466467758, 0.9883763581225619, 0.19569445527725568, 0.7916730236216253, 0.07592029558122544, 0.8578993400678475, 0.05314420690685781, 0.007592029558122544, 0.006304400762331788, 0.9929431200672567, 0.9863582648966575, 0.9847126190331917, 0.3245412397163235, 0.6717248915058788, 0.06418822459355183, 0.16424633940114736, 0.25675289837420734, 0.5135057967484147, 0.035707800755089635, 0.7800781088034966, 0.18128575767968583, 0.9812017223418137, 0.9768340564709191, 0.31584983408737705, 0.16409669541091312, 0.006897869939839269, 0.10056368280713039, 0.4124200132451268, 0.1297759432045845, 0.16970700265214894, 0.6888107754704869, 0.014974147292836672, 0.6236697727176969, 0.14161933703633292, 0.08170346367480745, 0.1525131321929739, 0.9884509356359202, 0.9851350615505442, 0.9758265923461145, 0.023123852899197026, 0.9845716944321226, 0.11604666197782933, 0.35205167116869573, 0.4328931660296555, 0.08866486533137521, 0.006519475392012884, 0.005215580313610307, 0.07458216211839477, 0.12678967560127113, 0.02983286484735791, 0.7681962698194662, 0.10226441077744679, 0.8911612939177506, 0.9893951647126582, 0.9754832229858496, 0.9919710726672953, 0.9811521171919007, 0.9856380663238834, 0.0844137760242926, 0.9074480922611454, 0.9425943963230751, 0.048965942666133765, 0.9788995950723415, 0.8424800662172509, 0.046073128621255906, 0.10860094603581749, 0.16927417674761283, 0.6194714553316896, 0.03601578228672614, 0.17287575497628546, 0.9855674012669432, 0.9939976070680071, 0.0038676949691362145, 0.9842358424739931, 0.5279933971543959, 0.2720947568157623, 0.16196116477128705, 0.035631456249683155, 0.16343500062443603, 0.2905511122212196, 0.5447833354147867, 0.9884982368451534, 0.9793605891661986, 0.06270319300975107, 0.49465852263248067, 0.4424058617910214, 0.7607552327023203, 0.2387771898262757, 0.9358395570522671, 0.059162270848131825, 0.00358559217261405, 0.049414896966831, 0.938883042369789, 0.6021639805009066, 0.3369250843278882, 0.059738490129058186, 0.976920721610763, 0.021206672683301658, 0.9872428105909455, 0.9895922563998516, 0.9903841198027071, 0.9995695883438277, 0.44022582582218067, 0.5556948948902937, 0.15698243893776598, 0.20276898362794774, 0.6410116256625444, 0.9801931546536702, 0.9919954098056367, 0.9942173803676568, 0.8099590474413918, 0.19001408932866776, 0.01580078102335048, 0.6636328029807201, 0.2370117153502572, 0.08351841398056682, 0.9896407247001546, 0.03371079122901636, 0.9607575500269662, 0.9959982105857866, 0.9836432219512352, 0.2242086896414701, 0.7730180195101432, 0.9968513436911736, 0.39651886685750565, 0.5976516254084143, 0.9977715692825954, 0.9050473552233234, 0.09274336855645364, 0.014886510429901433, 0.20034761953575678, 0.057064956647955495, 0.6835389372396408, 0.04403926002179174, 0.05292668799447347, 0.27708677832400813, 0.012453338351640817, 0.10585337598894694, 0.3891668234887755, 0.16189339857133062, 0.9921183804242847, 0.9828883046720799, 0.20119584083320144, 0.7954254172475406, 0.8924585316399178, 0.051958202184515766, 0.05501456701889904, 0.9878391708098261, 0.8142136321194879, 0.1776466106442519, 0.9799359375506888, 0.0902704315393164, 0.9027043153931639, 0.008117573661801238, 0.9903439867397511, 0.8159106410079007, 0.17910233583100257, 0.9870769953788457, 0.9884473690790594, 0.3665360113501028, 0.6331076559683593, 0.990131836224118, 0.06359754850658682, 0.08094233446292869, 0.10406871573805115, 0.7516073914414806, 0.09416389951572372, 0.9019910374664062, 0.2892217218375749, 0.7092818416492908, 0.4012482924538059, 0.34947431923396, 0.018336615515362097, 0.10354794643969184, 0.08736857980849, 0.03990910435696456, 0.20447651305779863, 0.005352788299942372, 0.26228662669717623, 0.05245732533943525, 0.004282230639953898, 0.4710453703949288, 0.9858439457832878, 0.9882362624740849, 0.9862089112257033, 0.09286090154882544, 0.8357481139394289, 0.07222514564908646, 0.9919060731642373, 0.9952327215075741, 0.1956462172162384, 0.7972583351561714, 0.9761757251903158, 0.9860239666047713, 0.9971717133022485, 0.9326893942396388, 0.06681953869179502, 0.7278405093652177, 0.22479214396087693, 0.04374333612211659, 0.0024301853401175882, 0.6358298535843013, 0.0700334331484158, 0.2930346281736345, 0.011635582444411381, 0.9773889253305561, 0.9869137792528327, 0.9944380797670441, 0.9794540312770929, 0.9857537816149019, 0.9951063194337297, 0.090244169285339, 0.90244169285339, 0.0392567910185059, 0.9421629844441416, 0.07980654910230402, 0.8459494204844226, 0.07342202517411969, 0.9731004377393474, 0.9969361617057152, 0.9863195546110056, 0.06807101399591647, 0.9189586889448724, 0.006004784771606832, 0.5512392420335072, 0.2762200994939143, 0.07325837421360336, 0.09247368548274522, 0.9815055371765915, 0.034543077656651176, 0.9602975588549026, 0.15462199290996415, 0.8437943041658044, 0.06311532755621962, 0.20337161101448545, 0.6592045322538495, 0.07363454881558956, 0.8357045364383581, 0.16258843121368832, 0.9858144966557938, 0.9896216175205688, 0.05508532613123059, 0.8372969571947051, 0.10466211964933814, 0.7307248807545365, 0.26430474410270466, 0.780002439663976, 0.000426463881718959, 0.08955741516098138, 0.12964502004256354, 0.1091826586873121, 0.8880189573234717, 0.9844573115241634, 0.010472950122597482, 0.9952865823443724, 0.9954276282883663, 0.9538594852615664, 0.0450097034787672, 0.9872409852385132, 0.5286436767498306, 0.34048236807616206, 0.12544087244911234, 0.9941613108577354, 0.9845256215886153, 0.9983480285038903, 0.9850011249364514, 0.9656299947799228, 0.9972722282677415, 0.007583873248678373, 0.32989848631750923, 0.6597969726350185, 0.9850165002616956, 0.04960319092509303, 0.21701396029728198, 0.34102193761001454, 0.3906251285351076, 0.9953478401621352, 0.9915123610236983, 0.9765210904274901, 0.13551363318911747, 0.3114436131188489, 0.03803891457940139, 0.3637471206655258, 0.11173931157699159, 0.035661482418188804, 0.988617029230244, 0.8848739773043041, 0.10835191558828214, 0.8801458728859021, 0.11735278305145361, 0.9878791931084877, 0.9884944040814236, 0.23528321090997473, 0.02450866780312237, 0.7401617676542955, 0.8427097089452695, 0.1183972318352858, 0.03482271524567229, 0.0365493649206469, 0.9502834879368194, 0.11535114129700724, 0.8486548252565532, 0.03295746894200207, 0.2204345701274775, 0.7771252641782258, 0.9905119736554412, 0.9921991988598433, 0.9914000304186197, 0.9835817361240382, 0.20523760844452277, 0.15649367643894863, 0.446391798366837, 0.18984478781118358, 0.14327522992647207, 0.15797012530354615, 0.6943338065667493, 0.9971838695839913, 0.9856380663238834, 0.986021618248005, 0.9911301022330944, 0.9854627391384997, 0.9800924880082155, 0.974157724532829, 0.9130164721304805, 0.07608470601087337, 0.9899886330190438, 0.014485952276073777, 0.09271009456687217, 0.052149428193865595, 0.17962580822331484, 0.6605594237889643, 0.09992338978819663, 0.8926489487745566, 0.9892976222691796, 0.7082198615615317, 0.26781423336360444, 0.020829995928280345, 0.142195346532885, 0.8176232425640886, 0.041473642738758115, 0.983857538312572, 0.9767120601823166, 0.018313351128418434, 0.9922884516327535, 0.2685356663743089, 0.014471982020172339, 0.5145593607172387, 0.11738385416362009, 0.08361589611655129, 0.5653438508449017, 0.0035333990677806353, 0.07420138042339335, 0.06360118322005144, 0.014133596271122541, 0.2756051272868896, 0.988961497154729, 0.5668565039561201, 0.28342825197806004, 0.14907589876768093, 0.9971407884048072, 0.9974801644847442, 0.8821429934353957, 0.036233361499716094, 0.025084634884418835, 0.03205258901897962, 0.02229745323059452, 0.9973247044694673, 0.021400172684781196, 0.9767650246839417, 0.9870647242594415, 0.9951119533164415, 0.05885631926588538, 0.9269870284376948, 0.9905862866181256, 0.07977120268161257, 0.015954240536322512, 0.9030100143558543, 0.999510447273502, 0.12585586039441504, 0.18091779931697163, 0.0393299563732547, 0.6528772757960281, 0.9869933886742251, 0.6211144413551996, 0.2567524742380156, 0.10949737871915373, 0.001887885839985409, 0.009439429199927046, 0.9960187990897353, 0.9825346623508614, 0.004166281881897656, 0.9499122690726656, 0.04166281881897656, 0.996106784218794, 0.9966102215395908, 0.34447818804813085, 0.6495874403193325, 0.06360734600609924, 0.9223065170884389, 0.01363014557273555, 0.010278232512553182, 0.9867103212051056, 0.22816923153844848, 0.014329468647342174, 0.04739747321813181, 0.23588509927163273, 0.18187402513934298, 0.013778335237829014, 0.013778335237829014, 0.2645440365663171, 0.9949015628178892, 0.9905635770174682, 0.9900603534461552, 0.998780404310798, 0.990593869697365, 0.9820734520583909, 0.9896273648098708, 0.9830919110207649, 0.21067083696752076, 0.013166927310470047, 0.026333854620940095, 0.7439313930415576, 0.9823591144385808, 0.9959505631292263, 0.9887200294034612, 0.21348454225448368, 0.7827766549331069, 0.987447483779553, 0.9945131907572206, 0.08564420411160437, 0.7961738974819517, 0.11736427970849486, 0.981558371500027, 0.9848091947515993, 0.9778515760557102, 0.004584169869419337, 0.9924727767292865, 0.9814150733294347, 0.9949048894700311, 0.004842334280990156, 0.992678527602982, 0.988543887645583, 0.9934773920731718, 0.9905224848680939, 0.9910278946305157, 0.9915275697529049, 0.9724377484890564, 0.0531584264823218, 0.06566629153698576, 0.8786775200901428, 0.9945919338799616, 0.9822049788671869, 0.9888416819083143, 0.9935901912740096, 0.9356390090859869, 0.06264249775931821, 0.49029291115632334, 0.5084519078658168, 0.6804257635355799, 0.31901581748319247, 0.10672686969845308, 0.06403612181907185, 0.8271332401630114, 0.9681967409316456, 0.9888298055007283, 0.1597231238273216, 0.14010800335729964, 0.6837270563836222, 0.016812960402875957, 0.9860535345243207, 0.02048875208034368, 0.9629713477761529, 0.09629799362405647, 0.8955713407037251, 0.9711185571155934, 0.989418846701043, 0.9832357785814327, 0.9824921989753178, 0.9939951798238573, 0.4119031819298448, 0.580889102721576, 0.9773520090927196, 0.27749117073718355, 0.7153105734558509, 0.9880339003507342, 0.9877378898436755, 0.8813921493405195, 0.11789927348244274, 0.9869016723296185, 0.9985610979806703, 0.985708787533851, 0.9679565600684128, 0.15842842578498204, 0.6935644417698102, 0.007041263368221424, 0.014082526736442847, 0.11618084557565349, 0.003520631684110712, 0.9964698856790803, 0.9951941358071568, 0.18745320373322819, 0.30703541990787375, 0.5041844790066137, 0.9955523016648306, 0.3698320033531611, 0.19687574307854844, 0.018399602156873685, 0.3698320033531611, 0.04599900539218422, 0.885256308697283, 0.007765406216642834, 0.046592437299857, 0.06212324973314267, 0.08404193853846634, 0.5129456248727083, 0.22894183257030484, 0.11591991522547081, 0.057959957612735404, 0.050106107973061156, 0.33011082899899113, 0.12143362638177174, 0.11907569188892181, 0.12732846261389658, 0.08606460898902268, 0.11966517551213429, 0.04539023898736128, 0.9803253762098808, 0.06555429872184393, 0.44576923130853874, 0.01430275608476595, 0.29320649973770196, 0.025029823148340413, 0.1549465242516311, 0.756745129731142, 0.08408279219234911, 0.15861072163556766, 0.9917095431600362, 0.1274244593258953, 0.8707338053936178, 0.985755044274137, 0.8732390979520472, 0.02950132087675835, 0.09440422680562673, 0.046026829038121844, 0.19331268196011175, 0.7594426791290105, 0.03632501079873392, 0.03178438444889218, 0.2043281857428783, 0.7219595896248366, 0.9877501001465767, 0.9766484664414509, 0.022901741648778347, 0.004776734293465472, 0.668742801085166, 0.17196243456475696, 0.1528554973908951, 0.9035629513997796, 0.09455891351858159, 0.9755585153275055, 0.10493518888685108, 0.8657153083165213, 0.02623379722171277, 0.9784125525343143, 0.9882325977520857, 0.9790512078282818, 0.9955182053499095, 0.9950441993404594, 0.07649483045827801, 0.9179379654993362, 0.990015680064663, 0.08958673847929868, 0.8100928479511051, 0.0991172425728411, 0.38465194023340205, 0.6144440084247851, 0.9775578253445439, 0.040761974153671866, 0.043673543736077, 0.48332055067925217, 0.2096330099331696, 0.22127928826279014, 0.45487018722295136, 0.0057761293615612875, 0.5328479336040287, 0.007220161701951609, 0.5572130789628239, 0.43942820048287734, 0.9892056683317676, 0.9855472265659628, 0.9322697914061634, 0.0433613856467983, 0.02168069282339915, 0.13536109049857306, 0.635155886185612, 0.17180446101741964, 0.05726815367247322, 0.9833788652820915, 0.007623091978930942, 0.5016552733645028, 0.4969493139520778, 0.1727099906492449, 0.8203724555839133, 0.08232906902371892, 0.022869185839921924, 0.8873244105889706, 0.9956381728235558, 0.10204894129736833, 0.14129853410404847, 0.7535921818882585, 0.11406479052872583, 0.124928103912414, 0.13035976060425808, 0.6300721762539141, 0.012511192930479625, 0.831994329876895, 0.15013431516575548, 0.9944050888442239, 0.0034272073007595508, 0.7299951550617843, 0.2638949621584854, 0.13561056866239457, 0.6149781602131846, 0.01576867077469704, 0.13876430281733398, 0.09303515757071255, 0.9929292955964393, 0.7455422801702515, 0.25135425445739906, 0.9794697230186491, 0.9905359301890391, 0.9657311690619835, 0.027911305464219178, 0.9812757524757386, 0.98251725689195, 0.01123701276214746, 0.4045324594373086, 0.07865908933503223, 0.50191990337592, 0.992761378819526, 0.9910881129721787, 0.1902263080018207, 0.538974539338492, 0.269487269669246, 0.9839602998340671, 0.991831253518494, 0.9864856683504942, 0.11313469059094414, 0.6788081435456649, 0.13503172747951397, 0.07299012296189944, 0.9910609689780061, 0.9951322215379395, 0.9824032515668382, 0.9918996502047188, 0.9817363903571987, 0.9904323048424442, 0.12940136741757602, 0.20199237840792353, 0.08679360009715464, 0.1309794328738879, 0.11046458194183319, 0.34086213856337094, 0.9661118771012043, 0.9941420555157712, 0.017775537758917225, 0.9776545767404474, 0.07980778055973484, 0.9141618500478718, 0.17882624925517876, 0.6888122193532812, 0.13246388833716946, 0.9732251974149684, 0.018596659823215955, 0.9025157580886554, 0.09472468598015041, 0.015216947246393473, 0.20390709310167254, 0.5112894274788207, 0.012173557797114778, 0.20999387200022993, 0.045650841739180416, 0.9865966283498169, 0.09533330167891747, 0.37664468368228055, 0.03594534325598528, 0.03281966123372569, 0.09611472218448237, 0.21801632105260635, 0.09924040420674196, 0.04610380982832894, 0.9913278601450046, 0.9969651269342803, 0.990289175125866, 0.9891235707363389, 0.14326205161964567, 0.25194360802075616, 0.5977485602061078, 0.9978648248333668, 0.24671199424095724, 0.3591836386743348, 0.04837490083156024, 0.3446711684248667, 0.44653533851932403, 0.0812867727887119, 0.3246051793362562, 0.1371036901036274, 0.01029632455323684, 0.9941387512851042, 0.9706911392389747, 0.11639182388875426, 0.8829411015310967, 0.018317907571944396, 0.970849101313053, 0.44976509558614247, 0.230749049039847, 0.3167910673258917, 0.9902804988969931, 0.9800761000528638, 0.9811447726611758, 0.9939807483517129, 0.26379333805161903, 0.6057476651555695, 0.10747135994695589, 0.01954024726308289, 0.025582843870701887, 0.9349366578201962, 0.039537122345630185, 0.9946760521232494, 0.9924574188161299, 0.9869608705919352, 0.036415995702468736, 0.29861116476024363, 0.12745598495864058, 0.5316735372560435, 0.0393285379283079, 0.7800160022447733, 0.17697842067738553, 0.9885607856449302, 0.9724300983615923, 0.3607403278967006, 0.6392711252863299, 0.1110347404808077, 0.8882779238464616, 0.9853801266722324, 0.993344053822276, 0.0958233114560831, 0.03538091499916914, 0.014742047916320476, 0.8520903695633235, 0.9835778800767406, 0.9759951858482254, 0.9700308400836729, 0.9854472297327743, 0.9897333705926925, 0.9929693510184447, 0.99151572621483, 0.024106396975647044, 0.9732957778917494, 0.029420843135769356, 0.34044118485675967, 0.029420843135769356, 0.016811910363296774, 0.584213885124563, 0.9924777870037621, 0.9860856895035858, 0.27501925900403174, 0.1419454240020809, 0.01108948625016257, 0.17964967725263364, 0.013307383500195084, 0.27058346450396675, 0.10867696525159319, 0.9998079223653398, 0.06429559342642777, 0.7243970192710861, 0.21003227185966403, 0.26525275425502154, 0.1321405662222818, 0.5868595735166044, 0.0019432436209159086, 0.0009716218104579543, 0.011659461725495451, 0.9913497988892049, 0.36959692177469955, 0.0016876571770534224, 0.6261208126868197, 0.9949365163982242, 0.9950828509306263, 0.11350624384117694, 0.8856684378593243, 0.9783932755131457, 0.9825162360515249, 0.9905177982573357, 0.42152681942361314, 0.23471379717905733, 0.19798986972927285, 0.13252547731878747, 0.011176847484717015, 0.9839062425926929, 0.9813081441427649, 0.9795390019425934, 0.9827861880020918, 0.9784595427171203, 0.9879835183924036, 0.9967616482911252, 0.9888375672154149, 0.9913761652930493, 0.007829229340912531, 0.9962736561854283, 0.9944257184151383, 0.9918557792186142, 0.20251351029913742, 0.794066132488723, 0.05417169242997243, 0.9389760021195223, 0.8687269004762995, 0.12014308198076483, 0.4285171623547498, 0.4864248869972836, 0.08396620073167395, 0.8389063241374961, 0.029332388955856506, 0.12906251140576863, 0.8821770000513625, 0.028274903847800077, 0.08482471154340024, 0.9763949918162033, 0.2083644892269961, 0.29766355603856587, 0.052091122306749026, 0.43533295070640254, 0.19237902144797478, 0.8029733069132861, 0.9746251933157234, 0.7848304392119159, 0.21074150682542186, 0.9962037074524994, 0.014503530131091694, 0.984628545566336, 0.9880166800441422, 0.04241001870893921, 0.8800078882104886, 0.0742175327406436, 0.2167499153589418, 0.7802996952921905, 0.9732132458742987, 0.20037696597431756, 0.7260412143744753, 0.07026205300398149, 0.9745124751445663, 0.9849985183476913, 0.12663638193036036, 0.7060937659147365, 0.16501104312137865, 0.9811954827708712, 0.02449394970230732, 0.9748591981518314, 0.9730936392904592, 0.9909725439037494, 0.9939432045579913, 0.023849743471349917, 0.283811947309064, 0.16694820429944943, 0.06916425606691476, 0.3243565112103589, 0.12640364039815458, 0.997583690859228, 0.9892109861390612, 0.9925109836494462, 0.9855949662541107, 0.010771529685837276, 0.994252073101424, 0.985816927050471, 0.013100557170105926, 0.9716526914462568, 0.9885389828692663, 0.9887083418182738, 0.9717103206141667, 0.9789166932854615, 0.9886167917784862, 0.9906338625759337, 0.998160393438493, 0.9951805874363796, 0.9869477245098833, 0.9806033011608414], \"Term\": [\"abortion\", \"access\", \"access\", \"act\", \"act\", \"action\", \"action\", \"action\", \"action\", \"activity\", \"activity\", \"add\", \"address\", \"adjudicate\", \"adjudication\", \"adjudication\", \"administration\", \"administrative\", \"administrative\", \"administrative\", \"adversary_proceeding\", \"age\", \"age\", \"age\", \"agency\", \"agency\", \"agency\", \"agency\", \"agency\", \"agreement\", \"agreement\", \"aid\", \"alien\", \"amend\", \"amendment\", \"amendment\", \"announce\", \"ante\", \"ante\", \"ante\", \"antisteere_provision\", \"appeal\", \"appeal\", \"appeal\", \"appeal\", \"applicant\", \"applicant\", \"applicant\", \"applicant\", \"application\", \"application\", \"application\", \"application\", \"appointment\", \"appointment\", \"approve\", \"arbitrability\", \"arbitrate\", \"arbitration\", \"arbitration\", \"arbitration_agreement\", \"arbitration_clause\", \"arbitrator\", \"arrest\", \"arrest\", \"arrest\", \"ask\", \"ask\", \"assess\", \"assessment\", \"assign\", \"assist\", \"attempt\", \"attorney\", \"attorney\", \"authority\", \"authority\", \"authority\", \"authority\", \"automatic\", \"automatically_excludable\", \"automobile\", \"available\", \"award\", \"award\", \"award_attorney_fee\", \"bank_cooperative\", \"bankruptcy\", \"bankruptcy\", \"bar\", \"bar\", \"bar\", \"bar\", \"bar\", \"bar\", \"base\", \"basis\", \"beer\", \"behalf\", \"beneficiary\", \"benefit\", \"benefit\", \"biosimilar\", \"black\", \"black\", \"black_juror\", \"breach\", \"cable_company\", \"call\", \"candidate\", \"candidate\", \"capital\", \"capital\", \"car\", \"car\", \"car\", \"cardholder\", \"carrier\", \"carrier\", \"cause\", \"cause\", \"cause\", \"cause\", \"cause_action\", \"cause_action\", \"cdna\", \"certification\", \"chapter\", \"chapter\", \"charge\", \"charge\", \"charge\", \"charge\", \"child\", \"child\", \"child\", \"choose\", \"civil_commitment\", \"claim\", \"claim\", \"claim\", \"claim\", \"claim\", \"class\", \"class\", \"class\", \"class\", \"clause\", \"clause\", \"clause\", \"clause\", \"coal\", \"collect\", \"commit\", \"commit\", \"common_carrier\", \"common_law\", \"common_law\", \"common_law\", \"common_law\", \"common_law\", \"common_law\", \"compensation\", \"compensation\", \"compensation\", \"compensation\", \"compete\", \"compete\", \"competence\", \"competency\", \"competition\", \"competitive\", \"competitive_lec\", \"conceal\", \"conceal\", \"concern\", \"concern\", \"conclusion\", \"concur\", \"concur\", \"concur\", \"conduct\", \"conduct\", \"conduct\", \"conduct\", \"confession\", \"consent\", \"consent\", \"consequence_verdict\", \"constitutional\", \"constitutional\", \"constitutional\", \"constitutional\", \"consumer\", \"consumer\", \"consumer\", \"contain\", \"contraband\", \"contract\", \"contract\", \"contract\", \"convict\", \"convict\", \"conviction\", \"conviction\", \"conviction\", \"copyright\", \"copyright\", \"cost\", \"cost\", \"cost\", \"counsel\", \"counsel\", \"counterclaim\", \"country\", \"coupler\", \"court\", \"create\", \"create\", \"credit\", \"credit\", \"credit\", \"credit_card\", \"credit_card_market\", \"creditor\", \"crime\", \"crime\", \"criminal\", \"criminal\", \"criminal\", \"criminal\", \"currency\", \"customer\", \"customer\", \"damage\", \"dangerous\", \"day\", \"day\", \"death_penalty\", \"debt\", \"debt\", \"debtor\", \"decision\", \"decision\", \"defendant\", \"defendant\", \"defendant\", \"defendant\", \"defendant\", \"defense\", \"defense\", \"defense\", \"defense\", \"defense\", \"defense\", \"defer\", \"define\", \"definition\", \"definition\", \"delay\", \"delay\", \"delay\", \"delegate\", \"depart\", \"depart\", \"departure\", \"design\", \"design\", \"detention\", \"detention\", \"direct\", \"direct\", \"direct_shipment\", \"directly\", \"disclosure\", \"disclosure\", \"discriminate_out\", \"discrimination\", \"discrimination\", \"discrimination\", \"discrimination\", \"discriminatory\", \"discriminatory\", \"dispute\", \"dispute\", \"dissent\", \"dissent\", \"dissent\", \"dissent\", \"dissent\", \"dissent\", \"district\", \"district\", \"district\", \"district\", \"district\", \"district\", \"double\", \"draw\", \"dredge\", \"drive\", \"drive\", \"drive\", \"driver\", \"drought\", \"drug\", \"drug\", \"easement\", \"elect\", \"election\", \"element\", \"element\", \"employee\", \"employee\", \"employee\", \"employee\", \"employer\", \"employer\", \"employer\", \"enforcement_officer\", \"enforcement_officer\", \"enjoy\", \"enter\", \"entertain\", \"entity\", \"entrance_facility\", \"equipment\", \"equipment\", \"equitable_tolling\", \"equitable_tolling\", \"error\", \"error\", \"error\", \"escheat\", \"estate\", \"estimate\", \"event\", \"event\", \"evidence\", \"evidence\", \"evidence\", \"evidence\", \"evidence\", \"evidentiary_hearing\", \"exclusionary_rule\", \"exclusionary_rule\", \"exempt\", \"exempt\", \"exemption\", \"exemption\", \"exemption\", \"exemption\", \"exercise\", \"exercise\", \"expert\", \"export\", \"facility\", \"facility\", \"facility\", \"fact\", \"fact\", \"federal\", \"federal\", \"federal\", \"federal\", \"fee\", \"fee\", \"fee_award\", \"fee_award\", \"felony\", \"fiduciary\", \"file\", \"file\", \"find\", \"finding\", \"finding\", \"finding\", \"firearm\", \"flow\", \"flower\", \"fmc\", \"fmcsa\", \"force\", \"foreign\", \"foreign\", \"foreign\", \"foreign_sovereign\", \"fund\", \"fund\", \"fund\", \"fund\", \"gene\", \"good\", \"govern\", \"government\", \"government\", \"government\", \"government\", \"government\", \"government\", \"grievance\", \"guarantee\", \"guarantee\", \"habea\", \"habea\", \"habeas\", \"hear\", \"hearing\", \"hearing\", \"hearing\", \"holding\", \"holding\", \"holding\", \"hostile_work_environment\", \"hostile_work_environment\", \"house\", \"house\", \"house\", \"immunity\", \"immunity\", \"impartial\", \"import\", \"import_liquor\", \"importation\", \"impose\", \"impose\", \"impose\", \"impose\", \"increase\", \"increase\", \"increase\", \"incumbent\", \"incumbent_lec\", \"indicate\", \"indictment\", \"ineffective_assistance\", \"ineffective_assistance_appellate_counsel\", \"infer\", \"inference\", \"inference\", \"inform\", \"information\", \"information\", \"information\", \"information\", \"information\", \"infringement\", \"infringement\", \"injunction\", \"injury\", \"injury\", \"injury\", \"inmate\", \"inmate\", \"inmate\", \"innocent\", \"instruction\", \"instruction\", \"interconnection\", \"interest\", \"interest\", \"interest\", \"interest\", \"interest\", \"interpretation\", \"interpretation\", \"interpretation\", \"interpretation\", \"interpretation\", \"interpretation\", \"invention\", \"judge\", \"judge\", \"judge\", \"judgment\", \"judicial\", \"jurisdiction\", \"jurisdiction\", \"jurisdiction\", \"jurisdiction\", \"jurisdiction\", \"juror\", \"jury\", \"jury\", \"kill\", \"know\", \"knowledge\", \"knowledge\", \"labor\", \"land\", \"land\", \"land\", \"law\", \"legislature\", \"legislature\", \"legislature\", \"legislature\", \"lesser_include\", \"liability\", \"liability\", \"liability\", \"liability\", \"liability\", \"lien\", \"life_parole\", \"limitation\", \"limitation\", \"limitation\", \"limitation_period\", \"liquor\", \"list\", \"list\", \"litigation\", \"litigation\", \"litigation\", \"mail\", \"mail\", \"majority\", \"majority\", \"majority\", \"majority\", \"majority\", \"majority\", \"majority\", \"majority\", \"manufacturer\", \"map\", \"maritime\", \"market\", \"materiality\", \"matter\", \"maximum\", \"meet\", \"ment\", \"ment\", \"ment\", \"ment\", \"mental\", \"merchant\", \"merchant_fee\", \"method\", \"method\", \"military_commission\", \"minimum\", \"money\", \"money\", \"money\", \"money_laundering\", \"monopoly_system\", \"month\", \"motion\", \"motion\", \"motor_vehicle\", \"move\", \"murder\", \"murder\", \"nature\", \"necessary\", \"negative\", \"network\", \"network_element\", \"no\", \"notice\", \"notice\", \"notice\", \"notice_appeal\", \"now\", \"nucleotide\", \"object\", \"offense\", \"offense\", \"offer\", \"offer\", \"officer\", \"officer\", \"official\", \"official\", \"official\", \"offset\", \"operator\", \"order\", \"order\", \"order\", \"order\", \"original\", \"other\", \"other\", \"out\", \"out\", \"output\", \"overturn\", \"own\", \"panel_majority\", \"parent\", \"parole\", \"parole\", \"parolee\", \"part\", \"part\", \"parte_review\", \"particular\", \"party\", \"party\", \"partygoer\", \"patent\", \"patent_eligible\", \"patent_owner\", \"pay\", \"pay\", \"pay\", \"pay\", \"pay\", \"pay\", \"people\", \"peremptory_strike\", \"period\", \"period\", \"period\", \"permit\", \"person\", \"person\", \"person\", \"person\", \"person\", \"personal\", \"personal\", \"personal\", \"personal\", \"petition\", \"petition\", \"petition\", \"petition\", \"petition\", \"petitioner\", \"petitioner\", \"petitioner\", \"petitioner\", \"petitioner\", \"petitioner\", \"petitioner\", \"petitioner\", \"physical_force\", \"plaintiff\", \"plaintiff\", \"plaintiff\", \"plaintiff\", \"plaintiff\", \"plaintiff\", \"plan\", \"plan\", \"plan\", \"plan_participant\", \"plant\", \"plant\", \"plea\", \"plurality\", \"plurality\", \"plurality\", \"police\", \"police\", \"police\", \"political\", \"political\", \"political\", \"political\", \"postconviction\", \"power\", \"power\", \"practice\", \"practice\", \"practice\", \"practice\", \"precedent\", \"precedent\", \"preclearance\", \"prejudice\", \"prejudice\", \"prejudice\", \"preparation_time\", \"prescribe\", \"pretrial_detention\", \"pretrial_motion\", \"prevail_party\", \"price\", \"price\", \"prior\", \"prisoner\", \"prisoner\", \"prisoner\", \"private\", \"private\", \"pro\", \"procedure\", \"procedure\", \"procedure\", \"procedure\", \"procedure\", \"proceeding\", \"proceeding\", \"proceeding\", \"proceeding\", \"product\", \"product\", \"professional\", \"profit\", \"program\", \"program\", \"program\", \"prohibit\", \"prohibit\", \"prohibit\", \"prohibit\", \"proof\", \"proof\", \"property\", \"property\", \"propose\", \"propose\", \"prosecutor\", \"prosecutor\", \"prosecutor\", \"prospectus\", \"protect\", \"protect\", \"protect\", \"protection\", \"protection\", \"protection\", \"protection\", \"prove\", \"prove\", \"prove\", \"provide\", \"provision\", \"provision\", \"provision\", \"public\", \"public\", \"public\", \"public\", \"public\", \"punish\", \"punishment\", \"punishment\", \"punitive_damage\", \"purpose\", \"qualification\", \"qualification\", \"qualified_immunity\", \"question\", \"race\", \"race\", \"race\", \"race\", \"race_neutral\", \"racial\", \"reasonable\", \"reasonable\", \"reasonable\", \"reasonable_doubt\", \"reasonable_suspicion\", \"receive\", \"record\", \"record\", \"record\", \"record\", \"recover\", \"recovery\", \"redistricting\", \"refund\", \"regard\", \"register\", \"regulation\", \"regulation\", \"regulation\", \"regulation\", \"regulation\", \"regulation\", \"reilly\", \"relationship\", \"release\", \"release\", \"reliance\", \"reliance\", \"relief\", \"relief\", \"relief\", \"religious\", \"religious\", \"remedy\", \"remedy\", \"requirement\", \"requirement\", \"requirement\", \"requirement\", \"requirement\", \"requirement\", \"resolve\", \"respondent\", \"respondent\", \"respondent\", \"respondent\", \"respondent\", \"respondent\", \"respondent\", \"respondent\", \"restraining_bar\", \"result\", \"retiree\", \"retroactivity\", \"return\", \"return\", \"return\", \"revenue\", \"review\", \"review\", \"review\", \"review\", \"right\", \"right\", \"right\", \"right\", \"right\", \"robbery\", \"role\", \"rule\", \"rule\", \"run\", \"run\", \"sale\", \"sale\", \"sale\", \"same\", \"satisfy\", \"say\", \"schedule\", \"scheme\", \"scheme\", \"scheme\", \"scheme\", \"school\", \"school\", \"school\", \"seaman\", \"search\", \"secondary\", \"section\", \"section\", \"section\", \"section\", \"security\", \"security\", \"security\", \"seize\", \"seizure\", \"sentence\", \"sentence\", \"sentencing\", \"sentencing\", \"separate_sovereign_doctrine\", \"serve\", \"service\", \"service\", \"service\", \"service\", \"service_advisor\", \"sexual_harassment\", \"shareholder\", \"side\", \"sided_platform\", \"signatory_operator\", \"solely\", \"sovereign_immunity\", \"sovereign_immunity\", \"speech\", \"speech\", \"speech\", \"speech\", \"speech\", \"sponsor\", \"spouse\", \"standard\", \"standard\", \"standard\", \"standard\", \"standard\", \"standard\", \"standard\", \"state\", \"statement\", \"statement\", \"statement\", \"statute\", \"statute\", \"statute\", \"statute\", \"statute\", \"statute\", \"statutory_minimum\", \"strike\", \"strike\", \"strike\", \"student\", \"subparagraph\", \"subsection\", \"subsection\", \"substantial_assistance\", \"successor\", \"successor_interest\", \"suit\", \"suit\", \"suit\", \"suit\", \"suit\", \"supervised_release\", \"supervisor\", \"support\", \"suppress\", \"supra\", \"suspicion\", \"take\", \"tariff\", \"tax\", \"tax\", \"taxis\", \"taxpayer\", \"tenancy_entirety\", \"term\", \"term\", \"territorial\", \"territorial\", \"testify\", \"testify\", \"time\", \"time\", \"time\", \"tion\", \"tion\", \"tion\", \"tort\", \"tort\", \"tort\", \"traffic_stop\", \"transaction\", \"transaction\", \"transaction\", \"transaction\", \"transfer\", \"transfer\", \"transmission\", \"transport\", \"transport\", \"transportation\", \"trial\", \"trial\", \"tribunal\", \"truck\", \"truck\", \"truck\", \"trustee\", \"trustee\", \"unexhausted\", \"use\", \"use\", \"use\", \"useful_article\", \"valid\", \"value\", \"value\", \"value\", \"value_exceed\", \"vehicle\", \"vehicle\", \"venue\", \"verdict\", \"vessel\", \"violation\", \"violation\", \"violation\", \"violation\", \"violation\", \"violation\", \"vote\", \"voter\", \"voting\", \"war\", \"war\", \"warrant\", \"water\", \"water\", \"watercraft\", \"way\", \"white_juror\", \"wholesaler\", \"wine\", \"wire_fraud_statute\", \"witness\", \"work\", \"writ\", \"write\", \"year_old\"]}, \"R\": 30, \"lambda.step\": 0.01, \"plot.opts\": {\"xlab\": \"PC1\", \"ylab\": \"PC2\"}, \"topic.order\": [1, 2, 5, 4, 8, 9, 3, 10, 7, 6]};\n",
       "\n",
       "function LDAvis_load_lib(url, callback){\n",
       "  var s = document.createElement('script');\n",
       "  s.src = url;\n",
       "  s.async = true;\n",
       "  s.onreadystatechange = s.onload = callback;\n",
       "  s.onerror = function(){console.warn(\"failed to load library \" + url);};\n",
       "  document.getElementsByTagName(\"head\")[0].appendChild(s);\n",
       "}\n",
       "\n",
       "if(typeof(LDAvis) !== \"undefined\"){\n",
       "   // already loaded: just create the visualization\n",
       "   !function(LDAvis){\n",
       "       new LDAvis(\"#\" + \"ldavis_el2438827642350070247988918186\", ldavis_el2438827642350070247988918186_data);\n",
       "   }(LDAvis);\n",
       "}else if(typeof define === \"function\" && define.amd){\n",
       "   // require.js is available: use it to load d3/LDAvis\n",
       "   require.config({paths: {d3: \"https://d3js.org/d3.v5\"}});\n",
       "   require([\"d3\"], function(d3){\n",
       "      window.d3 = d3;\n",
       "      LDAvis_load_lib(\"https://cdn.jsdelivr.net/gh/bmabey/pyLDAvis@3.4.0/pyLDAvis/js/ldavis.v3.0.0.js\", function(){\n",
       "        new LDAvis(\"#\" + \"ldavis_el2438827642350070247988918186\", ldavis_el2438827642350070247988918186_data);\n",
       "      });\n",
       "    });\n",
       "}else{\n",
       "    // require.js not available: dynamically load d3 & LDAvis\n",
       "    LDAvis_load_lib(\"https://d3js.org/d3.v5.js\", function(){\n",
       "         LDAvis_load_lib(\"https://cdn.jsdelivr.net/gh/bmabey/pyLDAvis@3.4.0/pyLDAvis/js/ldavis.v3.0.0.js\", function(){\n",
       "                 new LDAvis(\"#\" + \"ldavis_el2438827642350070247988918186\", ldavis_el2438827642350070247988918186_data);\n",
       "            })\n",
       "         });\n",
       "}\n",
       "</script>"
      ],
      "text/plain": [
       "PreparedData(topic_coordinates=              x         y  topics  cluster       Freq\n",
       "topic                                                \n",
       "0      0.118754  0.244111       1        1  15.722823\n",
       "1     -0.138898  0.146310       2        1  14.997959\n",
       "4      0.238670  0.024614       3        1  12.450312\n",
       "3     -0.076507 -0.015187       4        1  11.241881\n",
       "7      0.263239 -0.141359       5        1   9.047345\n",
       "8     -0.056921  0.069814       6        1   8.432382\n",
       "2     -0.089296  0.117990       7        1   8.355673\n",
       "9     -0.072007 -0.152614       8        1   7.963616\n",
       "6     -0.045958 -0.172446       9        1   5.908632\n",
       "5     -0.141076 -0.121234      10        1   5.879376, topic_info=                Term         Freq        Total Category  logprob  loglift\n",
       "1126           state  2678.000000  2678.000000  Default  30.0000  30.0000\n",
       "174              law  2145.000000  2145.000000  Default  29.0000  29.0000\n",
       "75             court  1629.000000  1629.000000  Default  28.0000  28.0000\n",
       "50             claim  2754.000000  2754.000000  Default  27.0000  27.0000\n",
       "1717           trial  1241.000000  1241.000000  Default  26.0000  26.0000\n",
       "...              ...          ...          ...      ...      ...      ...\n",
       "1236             bar    81.942597   265.219572  Topic10  -5.1957   1.6592\n",
       "1101            sale    80.537154   255.689028  Topic10  -5.2130   1.6785\n",
       "938   interpretation    78.300044   283.013603  Topic10  -5.2412   1.5488\n",
       "113         evidence    77.051781   832.669311  Topic10  -5.2572   0.4536\n",
       "483       petitioner    76.545425  1696.399969  Topic10  -5.2638  -0.2647\n",
       "\n",
       "[606 rows x 6 columns], token_table=      Topic      Freq      Term\n",
       "term                           \n",
       "4366      1  0.982777  abortion\n",
       "2210      4  0.960650    access\n",
       "2210      7  0.034933    access\n",
       "3         1  0.059193       act\n",
       "3         2  0.939370       act\n",
       "...     ...       ...       ...\n",
       "4605      3  0.990634   witness\n",
       "1197      8  0.998160      work\n",
       "3006      3  0.995181      writ\n",
       "666       1  0.986948     write\n",
       "3473      4  0.980603  year_old\n",
       "\n",
       "[1001 rows x 3 columns], R=30, lambda_step=0.01, plot_opts={'xlab': 'PC1', 'ylab': 'PC2'}, topic_order=[1, 2, 5, 4, 8, 9, 3, 10, 7, 6])"
      ]
     },
     "execution_count": 366,
     "metadata": {},
     "output_type": "execute_result"
    }
   ],
   "source": [
    "pyLDAvis.enable_notebook()\n",
    "vis = pyLDAvis.gensim.prepare(lda_model,corpus,id2word, mds=\"mmda\",R=30)\n",
    "vis"
   ]
  }
 ],
 "metadata": {
  "kernelspec": {
   "display_name": "Python 3 (ipykernel)",
   "language": "python",
   "name": "python3"
  },
  "language_info": {
   "codemirror_mode": {
    "name": "ipython",
    "version": 3
   },
   "file_extension": ".py",
   "mimetype": "text/x-python",
   "name": "python",
   "nbconvert_exporter": "python",
   "pygments_lexer": "ipython3",
   "version": "3.8.16"
  }
 },
 "nbformat": 4,
 "nbformat_minor": 5
}
